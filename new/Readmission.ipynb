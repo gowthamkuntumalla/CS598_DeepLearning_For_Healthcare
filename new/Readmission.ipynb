{
 "cells": [
  {
   "cell_type": "markdown",
   "id": "ba37fab0",
   "metadata": {},
   "source": [
    "# "
   ]
  },
  {
   "cell_type": "code",
   "execution_count": 5,
   "id": "2df72594",
   "metadata": {},
   "outputs": [],
   "source": [
    "# !pip install pyhealth\n",
    "# !pip install nltk"
   ]
  },
  {
   "cell_type": "markdown",
   "id": "3b03b367",
   "metadata": {},
   "source": [
    "## Load dataset"
   ]
  },
  {
   "cell_type": "markdown",
   "id": "ff4782e7",
   "metadata": {},
   "source": [
    "description on each table here:\n",
    "\n",
    "1. DIAGNOSES_ICD: https://mimic.mit.edu/docs/iii/tables/diagnoses_icd/\n",
    "\n",
    "ROW_ID, SUBJECT_ID, HADM_ID, SEQ_NUM, ICD9_CODE\n",
    "SUBJECT_ID is unique to a patient and HADM_ID is unique to a patient hospital stay.\n",
    "SEQ_NUM provides the order in which the ICD diagnoses relate to the patient\n",
    "ICD9_CODE contains the actual code corresponding to the diagnosis assigned to the patient for the given row\n",
    "\n",
    "Links to:\n",
    "\n",
    "PATIENTS on SUBJECT_ID\n",
    "ADMISSIONS on HADM_ID\n",
    "D_ICD_DIAGNOSES on ICD9_CODE\n",
    "\n",
    "2. PROCEDURES_ICD: https://mimic.mit.edu/docs/iii/tables/procedures_icd/\n",
    "\n",
    "ROW_ID, SUBJECT_ID, HADM_ID, SEQ_NUM, ICD9_CODE\n",
    "\n",
    "ICD9_CODE provides the ICD-9 code for the given procedure\n",
    "\n",
    "3. PRESCRIPTIONS: https://mimic.mit.edu/docs/iii/tables/prescriptions/\n",
    "\n",
    "ROW_ID, SUBJECT_ID, HADM_ID, ICUSTAY_ID, DRUG\n",
    "\n",
    "Links to:\n",
    "\n",
    "PATIENTS on SUBJECT_ID\n",
    "ADMISSIONS on HADM_ID\n",
    "ICUSTAYS on ICUSTAY_ID"
   ]
  },
  {
   "cell_type": "code",
   "execution_count": 9,
   "id": "d17ac17f",
   "metadata": {},
   "outputs": [],
   "source": [
    "import pandas as pd\n",
    "from tqdm.autonotebook import tqdm \n",
    "from pyhealth.datasets import MIMIC3Dataset\n",
    "pd.set_option('display.max_rows', 100)"
   ]
  },
  {
   "cell_type": "code",
   "execution_count": 10,
   "id": "3bd06fc7",
   "metadata": {},
   "outputs": [
    {
     "name": "stdout",
     "output_type": "stream",
     "text": [
      "\n",
      "Statistics of base dataset (dev=False):\n",
      "\t- Dataset: MIMIC3Dataset\n",
      "\t- Number of patients: 49993\n",
      "\t- Number of visits: 52769\n",
      "\t- Number of visits per patient: 1.0555\n",
      "\t- Number of events per visit in DIAGNOSES_ICD: 9.1038\n",
      "\t- Number of events per visit in PROCEDURES_ICD: 3.2186\n",
      "\t- Number of events per visit in PRESCRIPTIONS: 25.9600\n",
      "\n"
     ]
    },
    {
     "data": {
      "text/plain": [
       "'\\nStatistics of base dataset (dev=False):\\n\\t- Dataset: MIMIC3Dataset\\n\\t- Number of patients: 49993\\n\\t- Number of visits: 52769\\n\\t- Number of visits per patient: 1.0555\\n\\t- Number of events per visit in DIAGNOSES_ICD: 9.1038\\n\\t- Number of events per visit in PROCEDURES_ICD: 3.2186\\n\\t- Number of events per visit in PRESCRIPTIONS: 25.9600\\n'"
      ]
     },
     "execution_count": 10,
     "metadata": {},
     "output_type": "execute_result"
    }
   ],
   "source": [
    "\n",
    "\n",
    "mimic3_ds = MIMIC3Dataset(\n",
    "        root=\"https://storage.googleapis.com/pyhealth/Synthetic_MIMIC-III/\",\n",
    "        tables=[\"DIAGNOSES_ICD\", \"PROCEDURES_ICD\", \"PRESCRIPTIONS\"],\n",
    "#         tables=[\"ADMISSIONS\",],\n",
    ")\n",
    "\n",
    "mimic3_ds.stat()"
   ]
  },
  {
   "cell_type": "code",
   "execution_count": 11,
   "id": "919956f7",
   "metadata": {},
   "outputs": [
    {
     "name": "stdout",
     "output_type": "stream",
     "text": [
      "\n",
      "dataset.patients: patient_id -> <Patient>\n",
      "\n",
      "<Patient>\n",
      "    - visits: visit_id -> <Visit> \n",
      "    - other patient-level info\n",
      "    \n",
      "    <Visit>\n",
      "        - event_list_dict: table_name -> List[Event]\n",
      "        - other visit-level info\n",
      "    \n",
      "        <Event>\n",
      "            - code: str\n",
      "            - other event-level info\n",
      "\n"
     ]
    }
   ],
   "source": [
    "# data format\n",
    "mimic3_ds.info()"
   ]
  },
  {
   "cell_type": "code",
   "execution_count": 15,
   "id": "2fb4ea89",
   "metadata": {},
   "outputs": [
    {
     "data": {
      "text/plain": [
       "Patient 10092 with 2 visits"
      ]
     },
     "execution_count": 15,
     "metadata": {},
     "output_type": "execute_result"
    }
   ],
   "source": [
    "mimic3_ds.patients['10092']"
   ]
  },
  {
   "cell_type": "code",
   "execution_count": 16,
   "id": "77b1cbf1",
   "metadata": {},
   "outputs": [
    {
     "data": {
      "text/plain": [
       "{0: '110429', 1: '110430'}"
      ]
     },
     "execution_count": 16,
     "metadata": {},
     "output_type": "execute_result"
    }
   ],
   "source": [
    "mimic3_ds.patients['10092'].index_to_visit_id"
   ]
  },
  {
   "cell_type": "code",
   "execution_count": 17,
   "id": "b61f98f0",
   "metadata": {},
   "outputs": [
    {
     "data": {
      "text/plain": [
       "Visit 110429 from patient 10092 with 15 events from tables ['DIAGNOSES_ICD', 'PROCEDURES_ICD', 'PRESCRIPTIONS']"
      ]
     },
     "execution_count": 17,
     "metadata": {},
     "output_type": "execute_result"
    }
   ],
   "source": [
    "mimic3_ds.patients['10092'].visits['110429']"
   ]
  },
  {
   "cell_type": "code",
   "execution_count": 18,
   "id": "57d2d64b",
   "metadata": {},
   "outputs": [
    {
     "data": {
      "text/plain": [
       "{'DIAGNOSES_ICD': [Event with ICD9CM code 53081 from table DIAGNOSES_ICD,\n",
       "  Event with ICD9CM code 5715 from table DIAGNOSES_ICD,\n",
       "  Event with ICD9CM code 5185 from table DIAGNOSES_ICD,\n",
       "  Event with ICD9CM code 5180 from table DIAGNOSES_ICD,\n",
       "  Event with ICD9CM code 1623 from table DIAGNOSES_ICD,\n",
       "  Event with ICD9CM code 5672 from table DIAGNOSES_ICD,\n",
       "  Event with ICD9CM code 8748 from table DIAGNOSES_ICD,\n",
       "  Event with ICD9CM code 7812 from table DIAGNOSES_ICD,\n",
       "  Event with ICD9CM code 3229 from table DIAGNOSES_ICD],\n",
       " 'PROCEDURES_ICD': [Event with ICD9PROC code 3409 from table PROCEDURES_ICD],\n",
       " 'PRESCRIPTIONS': [Event with NDC code 00034120081 from table PRESCRIPTIONS,\n",
       "  Event with NDC code 00054858324 from table PRESCRIPTIONS,\n",
       "  Event with NDC code 63323026201 from table PRESCRIPTIONS,\n",
       "  Event with NDC code 00781305714 from table PRESCRIPTIONS,\n",
       "  Event with NDC code 00310013039 from table PRESCRIPTIONS]}"
      ]
     },
     "execution_count": 18,
     "metadata": {},
     "output_type": "execute_result"
    }
   ],
   "source": [
    "mimic3_ds.patients['10092'].visits['110429'].event_list_dict"
   ]
  },
  {
   "cell_type": "code",
   "execution_count": 19,
   "id": "e130efc2",
   "metadata": {},
   "outputs": [
    {
     "data": {
      "text/plain": [
       "Event with ICD9CM code 53081 from table DIAGNOSES_ICD"
      ]
     },
     "execution_count": 19,
     "metadata": {},
     "output_type": "execute_result"
    }
   ],
   "source": [
    "mimic3_ds.patients['10092'].visits['110429'].event_list_dict['DIAGNOSES_ICD'][0]"
   ]
  },
  {
   "cell_type": "code",
   "execution_count": 20,
   "id": "15502334",
   "metadata": {},
   "outputs": [
    {
     "data": {
      "text/plain": [
       "'53081'"
      ]
     },
     "execution_count": 20,
     "metadata": {},
     "output_type": "execute_result"
    }
   ],
   "source": [
    "mimic3_ds.patients['10092'].visits['110429'].event_list_dict['DIAGNOSES_ICD'][0].code"
   ]
  },
  {
   "cell_type": "code",
   "execution_count": 21,
   "id": "fd1a3ee4",
   "metadata": {},
   "outputs": [
    {
     "data": {
      "text/plain": [
       "['53081', '5715', '5185', '5180', '1623', '5672', '8748', '7812', '3229']"
      ]
     },
     "execution_count": 21,
     "metadata": {},
     "output_type": "execute_result"
    }
   ],
   "source": [
    "mimic3_ds.patients['10092'].visits['110429'].get_code_list(table=\"DIAGNOSES_ICD\")"
   ]
  },
  {
   "cell_type": "code",
   "execution_count": 22,
   "id": "c9147f0f",
   "metadata": {},
   "outputs": [
    {
     "data": {
      "text/plain": [
       "Event with ICD9PROC code 3409 from table PROCEDURES_ICD"
      ]
     },
     "execution_count": 22,
     "metadata": {},
     "output_type": "execute_result"
    }
   ],
   "source": [
    "mimic3_ds.patients['10092'].visits['110429'].event_list_dict['PROCEDURES_ICD'][0]"
   ]
  },
  {
   "cell_type": "code",
   "execution_count": 23,
   "id": "4004e416",
   "metadata": {},
   "outputs": [
    {
     "data": {
      "text/plain": [
       "Event with NDC code 00034120081 from table PRESCRIPTIONS"
      ]
     },
     "execution_count": 23,
     "metadata": {},
     "output_type": "execute_result"
    }
   ],
   "source": [
    "mimic3_ds.patients['10092'].visits['110429'].event_list_dict['PRESCRIPTIONS'][0]"
   ]
  },
  {
   "cell_type": "code",
   "execution_count": 24,
   "id": "b896fcd8",
   "metadata": {},
   "outputs": [
    {
     "data": {
      "text/plain": [
       "['DIAGNOSES_ICD', 'PROCEDURES_ICD', 'PRESCRIPTIONS']"
      ]
     },
     "execution_count": 24,
     "metadata": {},
     "output_type": "execute_result"
    }
   ],
   "source": [
    "mimic3_ds.tables"
   ]
  },
  {
   "cell_type": "code",
   "execution_count": 25,
   "id": "dce0e392",
   "metadata": {},
   "outputs": [
    {
     "name": "stdout",
     "output_type": "stream",
     "text": [
      "Esophageal reflux\n",
      "Abnormality of gait\n",
      "Other incision of pleura\n",
      "Morphine Sulfate 30 MG Oral Tablet\n"
     ]
    }
   ],
   "source": [
    "from pyhealth.medcode import InnerMap\n",
    "icd9cm = InnerMap.load(\"ICD9CM\")\n",
    "print(icd9cm.lookup(\"53081\"))\n",
    "print(icd9cm.lookup(\"7812\"))\n",
    "\n",
    "icd9proc = InnerMap.load(\"ICD9PROC\")\n",
    "print(icd9proc.lookup(\"3409\"))\n",
    "\n",
    "ndc = InnerMap.load(\"NDC\")\n",
    "print(ndc.lookup(\"00054858324\"))"
   ]
  },
  {
   "cell_type": "code",
   "execution_count": null,
   "id": "2eebeab0",
   "metadata": {},
   "outputs": [],
   "source": []
  },
  {
   "cell_type": "code",
   "execution_count": null,
   "id": "e82c6d2a",
   "metadata": {},
   "outputs": [],
   "source": []
  },
  {
   "cell_type": "code",
   "execution_count": null,
   "id": "84324ae8",
   "metadata": {},
   "outputs": [],
   "source": []
  },
  {
   "cell_type": "code",
   "execution_count": 26,
   "id": "e6caeecb",
   "metadata": {},
   "outputs": [],
   "source": [
    "# mimic3_ds.samples[0]"
   ]
  },
  {
   "cell_type": "raw",
   "id": "bbbf96dd",
   "metadata": {},
   "source": [
    "GPT comment on whether overlap\n",
    "\n",
    "I apologize for the confusion earlier. To answer your updated question, ICD-9-CM diagnosis codes and ICD-9-CM procedure codes do not have the same codes. Each set of codes is unique and does not overlap in terms of the codes themselves."
   ]
  },
  {
   "cell_type": "code",
   "execution_count": 27,
   "id": "d0d74f0a",
   "metadata": {},
   "outputs": [],
   "source": [
    "from pyhealth.data import Patient, Visit\n",
    "def readmission_prediction_mimic3_fn(patient: Patient, time_window=15):\n",
    "    \"\"\"Processes a single patient for the readmission prediction task.\n",
    "\n",
    "    Readmission prediction aims at predicting whether the patient will be readmitted\n",
    "    into hospital within time_window days based on the clinical information from\n",
    "    current visit (e.g., conditions and procedures).\n",
    "\n",
    "    Args:\n",
    "        patient: a Patient object\n",
    "        time_window: the time window threshold (gap < time_window means label=1 for\n",
    "            the task)\n",
    "\n",
    "    Returns:\n",
    "        samples: a list of samples, each sample is a dict with patient_id, visit_id,\n",
    "            and other task-specific attributes as key\n",
    "\n",
    "    Note that we define the task as a binary classification task.\n",
    "\n",
    "    Examples:\n",
    "        >>> from pyhealth.datasets import MIMIC3Dataset\n",
    "        >>> mimic3_base = MIMIC3Dataset(\n",
    "        ...    root=\"/srv/local/data/physionet.org/files/mimiciii/1.4\",\n",
    "        ...    tables=[\"DIAGNOSES_ICD\", \"PROCEDURES_ICD\", \"PRESCRIPTIONS\"],\n",
    "        ...    code_mapping={\"ICD9CM\": \"CCSCM\"},\n",
    "        ... )\n",
    "        >>> from pyhealth.tasks import readmission_prediction_mimic3_fn\n",
    "        >>> mimic3_sample = mimic3_base.set_task(readmission_prediction_mimic3_fn)\n",
    "        >>> mimic3_sample.samples[0]\n",
    "        [{'visit_id': '130744', 'patient_id': '103', 'conditions': [['42', '109', '19', '122', '98', '663', '58', '51']], 'procedures': [['1']], 'label': 1}]\n",
    "    \"\"\"\n",
    "    samples = []\n",
    "\n",
    "    # we will drop the last visit\n",
    "    for i in range(len(patient) - 1):\n",
    "        visit: Visit = patient[i]\n",
    "        next_visit: Visit = patient[i + 1]\n",
    "\n",
    "        # get time difference between current visit and next visit\n",
    "        time_diff = (next_visit.encounter_time - visit.encounter_time).days\n",
    "        readmission_label = 1 if time_diff < time_window else 0\n",
    "\n",
    "        conditions = visit.get_code_list(table=\"DIAGNOSES_ICD\")\n",
    "        procedures = visit.get_code_list(table=\"PROCEDURES_ICD\")\n",
    "        drugs = visit.get_code_list(table=\"PRESCRIPTIONS\")\n",
    "        # exclude: visits without condition, procedure, or drug code\n",
    "        if len(conditions) * len(procedures) * len(drugs) == 0:\n",
    "            continue\n",
    "#         # TODO: should also exclude visit with age < 18\n",
    "#         print(patient.patient_id,visit.visit_id)\n",
    "        samples.append(\n",
    "            {\n",
    "                \"visit_id\": visit.visit_id,\n",
    "                \"patient_id\": patient.patient_id,\n",
    "                \"conditions\": [conditions],\n",
    "                \"procedures\": [procedures],\n",
    "                \"drugs\": [drugs],\n",
    "                \"label\": readmission_label,\n",
    "            }\n",
    "        )\n",
    "    # no cohort selection\n",
    "    return samples"
   ]
  },
  {
   "cell_type": "code",
   "execution_count": 28,
   "id": "eb1a6199",
   "metadata": {},
   "outputs": [
    {
     "name": "stdout",
     "output_type": "stream",
     "text": [
      "Esophageal reflux\n",
      "Other incision of pleura\n",
      "Morphine Sulfate 30 MG Oral Tablet\n"
     ]
    },
    {
     "name": "stderr",
     "output_type": "stream",
     "text": [
      "100%|████████████████████████████████████████████████████████████████████████| 49993/49993 [00:00<00:00, 109269.65it/s]\n"
     ]
    }
   ],
   "source": [
    "\n",
    "from pyhealth.medcode import InnerMap\n",
    "icd9cm = InnerMap.load(\"ICD9CM\")\n",
    "print(icd9cm.lookup(\"53081\"))\n",
    "\n",
    "icd9proc = InnerMap.load(\"ICD9PROC\")\n",
    "print(icd9proc.lookup(\"3409\"))\n",
    "\n",
    "ndc = InnerMap.load(\"NDC\")\n",
    "print(ndc.lookup(\"00054858324\"))\n",
    "\n",
    "missing = 0\n",
    "result = []\n",
    "# loop through each patient/patient_id\n",
    "for patient_id in tqdm(mimic3_ds.patients.keys()):\n",
    "    patient = mimic3_ds.patients[patient_id]\n",
    "#     print(type(patient))\n",
    "\n",
    "    visit_id_list = patient.visits.keys()\n",
    "    if len(visit_id_list) <= 1:\n",
    "        continue # we do not care about patient that have only 1 visit, no readmission!\n",
    "    \n",
    "    # loop through each visit    \n",
    "    for visit_id in visit_id_list:\n",
    "        visit = patient.visits[visit_id]\n",
    "        conditions = visit.get_code_list(table=\"DIAGNOSES_ICD\")\n",
    "        procedures = visit.get_code_list(table=\"PROCEDURES_ICD\")\n",
    "        drugs = visit.get_code_list(table=\"PRESCRIPTIONS\")\n",
    "        for condition in conditions:\n",
    "            try:\n",
    "                result.append([patient_id, visit_id, visit.encounter_time, \"condition\", condition, icd9cm.lookup(condition)])\n",
    "            except:\n",
    "                missing+=1\n",
    "#                 print(\"cannot find icd9cm.lookup(condition)\", condition)\n",
    "        for procedure in procedures:\n",
    "            try:\n",
    "                result.append([patient_id, visit_id, visit.encounter_time, \"procedure\", procedure, icd9proc.lookup(procedure)])\n",
    "            except:\n",
    "                missing+=1\n",
    "#                 print(\"cannot find icd9proc.lookup(procedure)\", procedure)\n",
    "        for drug in drugs:\n",
    "            try:\n",
    "                result.append([patient_id, visit_id, visit.encounter_time, \"drug\", drug, ndc.lookup(drug)])\n",
    "            except:\n",
    "                missing+=1\n",
    "#                 print(\"cannot find ndc.lookup(drug)\", drug)\n",
    "    #break\n",
    "\n",
    "data = pd.DataFrame(result, columns = ['patient_id', 'visit_id', 'encounter_time', 'event_type', 'event_code', 'event_desc'])\n"
   ]
  },
  {
   "cell_type": "code",
   "execution_count": 29,
   "id": "e74f313e",
   "metadata": {},
   "outputs": [
    {
     "data": {
      "text/plain": [
       "2339"
      ]
     },
     "execution_count": 29,
     "metadata": {},
     "output_type": "execute_result"
    }
   ],
   "source": [
    "data.patient_id.unique().size"
   ]
  },
  {
   "cell_type": "code",
   "execution_count": 30,
   "id": "b417fc78",
   "metadata": {},
   "outputs": [
    {
     "data": {
      "text/html": [
       "<div>\n",
       "<style scoped>\n",
       "    .dataframe tbody tr th:only-of-type {\n",
       "        vertical-align: middle;\n",
       "    }\n",
       "\n",
       "    .dataframe tbody tr th {\n",
       "        vertical-align: top;\n",
       "    }\n",
       "\n",
       "    .dataframe thead th {\n",
       "        text-align: right;\n",
       "    }\n",
       "</style>\n",
       "<table border=\"1\" class=\"dataframe\">\n",
       "  <thead>\n",
       "    <tr style=\"text-align: right;\">\n",
       "      <th></th>\n",
       "      <th>patient_id</th>\n",
       "      <th>visit_id</th>\n",
       "      <th>encounter_time</th>\n",
       "      <th>event_type</th>\n",
       "      <th>event_code</th>\n",
       "      <th>event_desc</th>\n",
       "    </tr>\n",
       "  </thead>\n",
       "  <tbody>\n",
       "    <tr>\n",
       "      <th>0</th>\n",
       "      <td>10009</td>\n",
       "      <td>110342</td>\n",
       "      <td>1896-01-05</td>\n",
       "      <td>condition</td>\n",
       "      <td>5789</td>\n",
       "      <td>Hemorrhage of gastrointestinal tract, unspecified</td>\n",
       "    </tr>\n",
       "    <tr>\n",
       "      <th>1</th>\n",
       "      <td>10009</td>\n",
       "      <td>110342</td>\n",
       "      <td>1896-01-05</td>\n",
       "      <td>condition</td>\n",
       "      <td>2724</td>\n",
       "      <td>Other and unspecified hyperlipidemia</td>\n",
       "    </tr>\n",
       "    <tr>\n",
       "      <th>2</th>\n",
       "      <td>10009</td>\n",
       "      <td>110342</td>\n",
       "      <td>1896-01-05</td>\n",
       "      <td>condition</td>\n",
       "      <td>45620</td>\n",
       "      <td>Esophageal varices in diseases classified else...</td>\n",
       "    </tr>\n",
       "    <tr>\n",
       "      <th>3</th>\n",
       "      <td>10009</td>\n",
       "      <td>110342</td>\n",
       "      <td>1896-01-05</td>\n",
       "      <td>condition</td>\n",
       "      <td>78659</td>\n",
       "      <td>Other chest pain</td>\n",
       "    </tr>\n",
       "    <tr>\n",
       "      <th>4</th>\n",
       "      <td>10009</td>\n",
       "      <td>110342</td>\n",
       "      <td>1896-01-05</td>\n",
       "      <td>condition</td>\n",
       "      <td>45981</td>\n",
       "      <td>Venous (peripheral) insufficiency, unspecified</td>\n",
       "    </tr>\n",
       "    <tr>\n",
       "      <th>...</th>\n",
       "      <td>...</td>\n",
       "      <td>...</td>\n",
       "      <td>...</td>\n",
       "      <td>...</td>\n",
       "      <td>...</td>\n",
       "      <td>...</td>\n",
       "    </tr>\n",
       "    <tr>\n",
       "      <th>160368</th>\n",
       "      <td>9998</td>\n",
       "      <td>110330</td>\n",
       "      <td>2158-02-26</td>\n",
       "      <td>drug</td>\n",
       "      <td>59772704701</td>\n",
       "      <td>Captopril 50 MG Oral Tablet</td>\n",
       "    </tr>\n",
       "    <tr>\n",
       "      <th>160369</th>\n",
       "      <td>9998</td>\n",
       "      <td>110331</td>\n",
       "      <td>2158-03-06</td>\n",
       "      <td>condition</td>\n",
       "      <td>4280</td>\n",
       "      <td>Congestive heart failure, unspecified</td>\n",
       "    </tr>\n",
       "    <tr>\n",
       "      <th>160370</th>\n",
       "      <td>9998</td>\n",
       "      <td>110331</td>\n",
       "      <td>2158-03-06</td>\n",
       "      <td>condition</td>\n",
       "      <td>99859</td>\n",
       "      <td>Other postoperative infection</td>\n",
       "    </tr>\n",
       "    <tr>\n",
       "      <th>160371</th>\n",
       "      <td>9998</td>\n",
       "      <td>110331</td>\n",
       "      <td>2158-03-06</td>\n",
       "      <td>condition</td>\n",
       "      <td>56211</td>\n",
       "      <td>Diverticulitis of colon (without mention of he...</td>\n",
       "    </tr>\n",
       "    <tr>\n",
       "      <th>160372</th>\n",
       "      <td>9998</td>\n",
       "      <td>110331</td>\n",
       "      <td>2158-03-06</td>\n",
       "      <td>condition</td>\n",
       "      <td>1623</td>\n",
       "      <td>Malignant neoplasm of upper lobe, bronchus or ...</td>\n",
       "    </tr>\n",
       "  </tbody>\n",
       "</table>\n",
       "<p>160373 rows × 6 columns</p>\n",
       "</div>"
      ],
      "text/plain": [
       "       patient_id visit_id encounter_time event_type   event_code  \\\n",
       "0           10009   110342     1896-01-05  condition         5789   \n",
       "1           10009   110342     1896-01-05  condition         2724   \n",
       "2           10009   110342     1896-01-05  condition        45620   \n",
       "3           10009   110342     1896-01-05  condition        78659   \n",
       "4           10009   110342     1896-01-05  condition        45981   \n",
       "...           ...      ...            ...        ...          ...   \n",
       "160368       9998   110330     2158-02-26       drug  59772704701   \n",
       "160369       9998   110331     2158-03-06  condition         4280   \n",
       "160370       9998   110331     2158-03-06  condition        99859   \n",
       "160371       9998   110331     2158-03-06  condition        56211   \n",
       "160372       9998   110331     2158-03-06  condition         1623   \n",
       "\n",
       "                                               event_desc  \n",
       "0       Hemorrhage of gastrointestinal tract, unspecified  \n",
       "1                    Other and unspecified hyperlipidemia  \n",
       "2       Esophageal varices in diseases classified else...  \n",
       "3                                        Other chest pain  \n",
       "4          Venous (peripheral) insufficiency, unspecified  \n",
       "...                                                   ...  \n",
       "160368                        Captopril 50 MG Oral Tablet  \n",
       "160369              Congestive heart failure, unspecified  \n",
       "160370                      Other postoperative infection  \n",
       "160371  Diverticulitis of colon (without mention of he...  \n",
       "160372  Malignant neoplasm of upper lobe, bronchus or ...  \n",
       "\n",
       "[160373 rows x 6 columns]"
      ]
     },
     "execution_count": 30,
     "metadata": {},
     "output_type": "execute_result"
    }
   ],
   "source": [
    "data"
   ]
  },
  {
   "cell_type": "code",
   "execution_count": null,
   "id": "e0710335",
   "metadata": {},
   "outputs": [],
   "source": []
  },
  {
   "cell_type": "code",
   "execution_count": 31,
   "id": "d5e1864e",
   "metadata": {},
   "outputs": [],
   "source": [
    "# we will pick top 200 code and create a word_bag for mapping\n",
    "top_words = data.groupby('event_desc')['visit_id'].count().reset_index().sort_values(by='visit_id', ascending=False)\\\n",
    "            ['event_desc'].head(200).values\n",
    "index_to_words = {}\n",
    "words_to_index = {}\n",
    "cnt = 1\n",
    "for word in top_words:\n",
    "    index_to_words[cnt] = word\n",
    "    words_to_index[word] = cnt\n",
    "    cnt+=1"
   ]
  },
  {
   "cell_type": "code",
   "execution_count": 34,
   "id": "dacdf70b",
   "metadata": {},
   "outputs": [
    {
     "data": {
      "text/plain": [
       "array(['250 ML glucose 50 MG/ML Injection',\n",
       "       'Acetaminophen 325 MG Oral Tablet',\n",
       "       '100 ML sodium chloride 9 MG/ML Injection',\n",
       "       'heparin sodium, porcine 5000 UNT/ML Injectable Solution',\n",
       "       'Unspecified essential hypertension',\n",
       "       'pantoprazole 40 MG Delayed Release Oral Tablet [Protonix]',\n",
       "       'metoprolol tartrate 25 MG Oral Tablet',\n",
       "       '1000 ML sodium chloride 9 MG/ML Injection',\n",
       "       '250 ML sodium chloride 9 MG/ML Injection',\n",
       "       '500 ML sodium chloride 9 MG/ML Injection',\n",
       "       '50 ML potassium chloride 0.4 MEQ/ML Injection',\n",
       "       'Docusate Sodium 100 MG Oral Capsule',\n",
       "       '10 ML calcium gluconate 100 MG/ML Injection',\n",
       "       'Potassium Chloride 1.33 MEQ/ML Oral Solution [Kay Ciel]',\n",
       "       'Congestive heart failure, unspecified',\n",
       "       'Propofol 10 MG/ML Injectable Suspension [Diprivan]',\n",
       "       'Atrial fibrillation', 'pantoprazole 40 MG Injection [Protonix]',\n",
       "       'docusate sodium 10 MG/ML Oral Suspension',\n",
       "       'Potassium Chloride 10 MEQ Extended Release Oral Capsule',\n",
       "       '50 ML magnesium sulfate 40 MG/ML Injection',\n",
       "       'Coronary atherosclerosis of native coronary artery',\n",
       "       '1 ML morphine sulfate 2 MG/ML Prefilled Syringe',\n",
       "       '200 ML vancomycin 5 MG/ML Injection',\n",
       "       '4 ML Furosemide 10 MG/ML Injection',\n",
       "       '5 ML metoprolol tartrate 1 MG/ML Injection',\n",
       "       'Diabetes mellitus without mention of complication, type II or unspecified type, not stated as uncontrolled',\n",
       "       'insulin, regular, human 100 UNT/ML Injectable Solution [Humulin R]',\n",
       "       'aspirin 81 MG Chewable Tablet',\n",
       "       'calcium chloride 0.0014 MEQ/ML / potassium chloride 0.004 MEQ/ML / sodium chloride 0.103 MEQ/ML / sodium lactate 0.028 MEQ/ML Injectable Solution',\n",
       "       'Fentanyl 0.05 MG/ML Injectable Solution',\n",
       "       '1000 ML glucose 50 MG/ML / sodium chloride 4.5 MG/ML Injection',\n",
       "       'Venous catheterization, not elsewhere classified',\n",
       "       '2 ML Magnesium Sulfate 500 MG/ML Injection',\n",
       "       '5 ML heparin sodium, porcine 100 UNT/ML Prefilled Syringe',\n",
       "       '1 ML Phenylephrine Hydrochloride 10 MG/ML Injection',\n",
       "       'sennosides, USP 8.6 MG Oral Tablet',\n",
       "       '50 ML glucose 500 MG/ML Prefilled Syringe',\n",
       "       'acetaminophen 325 MG / oxycodone hydrochloride 5 MG Oral Tablet',\n",
       "       'acetaminophen 650 MG Rectal Suppository [Acephen]',\n",
       "       'bisacodyl 10 MG Rectal Suppository', 'Aspirin 325 MG Oral Tablet',\n",
       "       'Docusate Sodium 100 MG Oral Capsule [DOK]',\n",
       "       '2 ML ondansetron 2 MG/ML Injection',\n",
       "       '1 ML hydralazine hydrochloride 20 MG/ML Injection',\n",
       "       'Acute kidney failure, unspecified', 'Transfusion of packed cells',\n",
       "       'metoprolol tartrate 50 MG Oral Tablet',\n",
       "       'Other and unspecified hyperlipidemia',\n",
       "       '1000 ML sodium chloride 4.5 MG/ML Injection',\n",
       "       '100 ML glucose 50 MG/ML Injection',\n",
       "       '250 ML heparin sodium, porcine 100 UNT/ML Injection',\n",
       "       'Esophageal reflux', 'Ranitidine 150 MG Oral Tablet',\n",
       "       'Extracorporeal circulation auxiliary to open heart surgery',\n",
       "       'Urinary tract infection, site not specified',\n",
       "       '1 ML morphine sulfate 4 MG/ML Injection',\n",
       "       'lorazepam 0.5 MG Oral Tablet',\n",
       "       'Bisacodyl 10 MG Rectal Suppository',\n",
       "       'Nitroglycerin 0.4 MG/ML Injectable Solution',\n",
       "       'Pure hypercholesterolemia', '1000 ML glucose 50 MG/ML Injection',\n",
       "       'bisacodyl 5 MG Delayed Release Oral Tablet',\n",
       "       'furosemide 20 MG Oral Tablet',\n",
       "       'clopidogrel 75 MG Oral Tablet [Plavix]',\n",
       "       '1 ML Lorazepam 2 MG/ML Prefilled Syringe',\n",
       "       'chlorhexidine gluconate 1.2 MG/ML Mouthwash',\n",
       "       'ipratropium bromide 0.2 MG/ML Inhalation Solution',\n",
       "       '20 ML potassium chloride 2 MEQ/ML Injection',\n",
       "       'Unspecified acquired hypothyroidism',\n",
       "       '2 ML metoclopramide 5 MG/ML Injection',\n",
       "       'Midazolam 1 MG/ML Injectable Solution',\n",
       "       'warfarin sodium 5 MG Oral Tablet [Coumadin]',\n",
       "       '500 ML glucose 50 MG/ML Injection',\n",
       "       'atorvastatin 10 MG Oral Tablet [Lipitor]',\n",
       "       'Levofloxacin 5 MG/ML Injectable Solution [Levaquin]',\n",
       "       'Acute respiratory failure',\n",
       "       'sennosides, USP 8.6 MG Oral Tablet [Senokot]',\n",
       "       '50 ML glucose 50 MG/ML Injection',\n",
       "       'warfarin sodium 1 MG Oral Tablet [Coumadin]',\n",
       "       'albuterol 0.83 MG/ML Inhalation Solution',\n",
       "       'Lactulose 667 MG/ML Oral Solution',\n",
       "       '24 HR Potassium Chloride 20 MEQ Extended Release Tablet',\n",
       "       'Continuous invasive mechanical ventilation for less than 96 consecutive hours',\n",
       "       'Insertion of endotracheal tube',\n",
       "       'oxycodone hydrochloride 5 MG Oral Tablet',\n",
       "       '250 ML nitroglycerin 0.4 MG/ML Injection',\n",
       "       'acetaminophen 32 MG/ML Oral Solution',\n",
       "       '200 ACTUAT Albuterol 0.09 MG/ACTUAT Metered Dose Inhaler',\n",
       "       'Chronic airway obstruction, not elsewhere classified',\n",
       "       'glucagon (rDNA) 1 MG Injection [GlucaGen]',\n",
       "       'Zolpidem tartrate 5 MG Oral Tablet [Ambien]',\n",
       "       'Enteral infusion of concentrated nutritional substances',\n",
       "       'Acute posthemorrhagic anemia',\n",
       "       'Morphine Sulfate 2 MG/ML Injectable Solution',\n",
       "       '15 ML dibasic potassium phosphate 236 MG/ML / monobasic potassium phosphate 224 MG/ML Injection',\n",
       "       'diphenhydramine hydrochloride 25 MG Oral Capsule',\n",
       "       '10 ML Furosemide 10 MG/ML Injection',\n",
       "       'Albuterol 0.83 MG/ML Inhalant Solution',\n",
       "       '50 ML sodium chloride 9 MG/ML Injection',\n",
       "       'insulin glargine 100 UNT/ML Injectable Solution [Lantus]',\n",
       "       '1000 ML glucose 50 MG/ML / potassium chloride 0.02 MEQ/ML / sodium chloride 4.5 MG/ML Injection',\n",
       "       'furosemide 40 MG Oral Tablet',\n",
       "       'diphenhydramine hydrochloride 50 MG/ML Injectable Solution',\n",
       "       'warfarin sodium 2 MG Oral Tablet [Coumadin]',\n",
       "       'calcium carbonate 500 MG Chewable Tablet',\n",
       "       'insulin isophane, human 100 UNT/ML Injectable Suspension [Humulin N]',\n",
       "       'Levofloxacin 500 MG Oral Tablet [Levaquin]',\n",
       "       '0.625 ML dolasetron mesylate 20 MG/ML Injection [Anzemet]',\n",
       "       'Coronary arteriography using two catheters',\n",
       "       'Anemia, unspecified', 'Metronidazole 500 MG Oral Tablet',\n",
       "       'lorazepam 1 MG Oral Tablet',\n",
       "       'Midazolam 5 MG/ML Injectable Solution',\n",
       "       'Trazodone Hydrochloride 50 MG Oral Tablet',\n",
       "       'magnesium oxide 400 MG Oral Tablet [Mag-Ox 400]',\n",
       "       '1 ML hydromorphone hydrochloride 2 MG/ML Cartridge',\n",
       "       'Long-term (current) use of anticoagulants',\n",
       "       'Magnesium Sulfate 500 MG/ML Injectable Solution',\n",
       "       '100 ML propofol 10 MG/ML Injection [Diprivan]',\n",
       "       '50 ML sodium bicarbonate 84 MG/ML Injection',\n",
       "       'Single internal mammary-coronary artery bypass',\n",
       "       'Diagnostic ultrasound of heart',\n",
       "       '5 ML heparin sodium, porcine 10 UNT/ML Prefilled Syringe',\n",
       "       'Famotidine 0.4 MG/ML Injectable Solution [Pepcid]',\n",
       "       'aspirin 325 MG Delayed Release Oral Tablet',\n",
       "       'Ciprofloxacin 500 MG Oral Tablet',\n",
       "       'Acetaminophen 325 MG Oral Tablet [Tylenol]',\n",
       "       'folic acid 1 MG Oral Tablet', 'Old myocardial infarction',\n",
       "       '1 ML lorazepam 2 MG/ML Cartridge',\n",
       "       'amiodarone hydrochloride 200 MG Oral Tablet', 'Acidosis',\n",
       "       'Aortocoronary bypass status', 'Pneumonia, organism unspecified',\n",
       "       '0.5 ML Streptococcus pneumoniae type 1 capsular polysaccharide antigen 0.05 MG/ML / Streptococcus pneumoniae type 10A capsular polysaccharide antigen 0.05 MG/ML / Streptococcus pneumoniae type 11A capsular polysaccharide antigen 0.05 MG/ML / Streptococ...',\n",
       "       'aspirin 81 MG Delayed Release Oral Tablet [Aspir-Low]',\n",
       "       '200 ACTUAT ipratropium bromide 0.017 MG/ACTUAT Metered Dose Inhaler [Atrovent]',\n",
       "       'Depressive disorder, not elsewhere classified',\n",
       "       'ferrous sulfate 325 MG Oral Tablet',\n",
       "       'atorvastatin 40 MG Oral Tablet [Lipitor]',\n",
       "       '1 ML hydromorphone hydrochloride 1 MG/ML Cartridge',\n",
       "       'vancomycin 500 MG Injection', 'Metoclopramide 10 MG Oral Tablet',\n",
       "       'Furosemide 10 MG/ML Injectable Solution',\n",
       "       'Nystatin 100000 UNT/ML Oral Suspension',\n",
       "       'Calcium Gluconate 20 MG/ML Injectable Solution',\n",
       "       'Potassium Chloride 2 MEQ/ML Injectable Solution',\n",
       "       'Glycopyrrolate 0.2 MG/ML Injectable Solution',\n",
       "       'Hypertensive chronic kidney disease, unspecified, with chronic kidney disease stage V or end stage renal disease',\n",
       "       'Glucose 50 MG/ML Injectable Solution',\n",
       "       'atorvastatin 20 MG Oral Tablet [Lipitor]',\n",
       "       'Acetaminophen 325 MG / Oxycodone Hydrochloride 5 MG Oral Tablet [Roxicet]',\n",
       "       'Vancomycin 100 MG/ML Injectable Solution [Vancocin]',\n",
       "       'Arterial catheterization',\n",
       "       '200 ACTUAT Albuterol 0.09 MG/ACTUAT / Ipratropium Bromide 0.018 MG/ACTUAT Metered Dose Inhaler [Combivent]',\n",
       "       'sucralfate 1000 MG Oral Tablet',\n",
       "       '4 ML norepinephrine 1 MG/ML Injection',\n",
       "       '10 ML potassium chloride 2 MEQ/ML Injection',\n",
       "       'Phenylephrine Hydrochloride 10 MG/ML Injectable Solution [Neo-Synephrine]',\n",
       "       'Thrombocytopenia, unspecified',\n",
       "       'alteplase 50 MG Injection [Activase]',\n",
       "       'Continuous invasive mechanical ventilation for 96 consecutive hours or more',\n",
       "       'Haloperidol 5 MG/ML Injectable Solution [Haldol]',\n",
       "       '100 ML metronidazole 5 MG/ML Injection', 'Tobacco use disorder',\n",
       "       'Hydromorphone Hydrochloride 2 MG Oral Tablet',\n",
       "       'Vitamin K 1 5 MG Oral Tablet [Mephyton]',\n",
       "       'piperacillin 4000 MG / tazobactam 500 MG Injection [Zosyn]',\n",
       "       '1 ML meperidine hydrochloride 50 MG/ML Cartridge [Demerol]',\n",
       "       'Morphine Sulfate 8 MG/ML Injectable Solution',\n",
       "       'Left heart cardiac catheterization',\n",
       "       'pantoprazole 4 MG/ML Injectable Solution [Protonix IV]',\n",
       "       'Famotidine 20 MG Oral Tablet [Pepcid]',\n",
       "       'prednisone 5 MG Oral Tablet',\n",
       "       'cefazolin 200 MG/ML Injectable Solution',\n",
       "       'Amiodarone hydrochloride 50 MG/ML Injectable Solution',\n",
       "       'Ipratropium Bromide 0.2 MG/ML Inhalant Solution',\n",
       "       'Metoclopramide 5 MG/ML Injectable Solution [Reglan]',\n",
       "       'Mitral valve disorders',\n",
       "       'Diltiazem Hydrochloride 5 MG/ML Injectable Solution',\n",
       "       'Ranitidine 15 MG/ML Oral Solution',\n",
       "       'Percutaneous transluminal coronary angioplasty status',\n",
       "       'Chronic kidney disease, unspecified',\n",
       "       'Cardiac complications, not elsewhere classified',\n",
       "       'Lisinopril 5 MG Oral Tablet',\n",
       "       'Nitroglycerin 0.3 MG Sublingual Tablet [Nitroquick]',\n",
       "       'magnesium hydroxide 80 MG/ML Oral Suspension',\n",
       "       'Pneumonitis due to inhalation of food or vomitus',\n",
       "       'sulfamethoxazole 800 MG / trimethoprim 160 MG Oral Tablet',\n",
       "       'Hydromorphone Hydrochloride 4 MG/ML Injectable Solution [Dilaudid]',\n",
       "       'Subendocardial infarction, initial episode of care',\n",
       "       'prednisone 10 MG Oral Tablet',\n",
       "       'atorvastatin 80 MG Oral Tablet [Lipitor]',\n",
       "       'Unspecified pleural effusion',\n",
       "       'Sodium Chloride 0.111 MEQ/ML Nasal Solution [Ocean brand of sodium chloride]',\n",
       "       'simvastatin 10 MG Oral Tablet',\n",
       "       'Hydromorphone Hydrochloride 2 MG Oral Tablet [Dilaudid]',\n",
       "       'Asthma, unspecified type, unspecified',\n",
       "       '5 ML Lidocaine Hydrochloride 0.02 MG/MG Prefilled Applicator'],\n",
       "      dtype=object)"
      ]
     },
     "execution_count": 34,
     "metadata": {},
     "output_type": "execute_result"
    }
   ],
   "source": [
    "top_words"
   ]
  },
  {
   "cell_type": "code",
   "execution_count": 35,
   "id": "57424786",
   "metadata": {},
   "outputs": [
    {
     "data": {
      "text/html": [
       "<div>\n",
       "<style scoped>\n",
       "    .dataframe tbody tr th:only-of-type {\n",
       "        vertical-align: middle;\n",
       "    }\n",
       "\n",
       "    .dataframe tbody tr th {\n",
       "        vertical-align: top;\n",
       "    }\n",
       "\n",
       "    .dataframe thead th {\n",
       "        text-align: right;\n",
       "    }\n",
       "</style>\n",
       "<table border=\"1\" class=\"dataframe\">\n",
       "  <thead>\n",
       "    <tr style=\"text-align: right;\">\n",
       "      <th></th>\n",
       "      <th>patient_id</th>\n",
       "      <th>visit_id</th>\n",
       "      <th>encounter_time</th>\n",
       "      <th>event_type</th>\n",
       "      <th>event_code</th>\n",
       "      <th>event_desc</th>\n",
       "      <th>code_new</th>\n",
       "    </tr>\n",
       "  </thead>\n",
       "  <tbody>\n",
       "    <tr>\n",
       "      <th>0</th>\n",
       "      <td>10009</td>\n",
       "      <td>110342</td>\n",
       "      <td>1896-01-05</td>\n",
       "      <td>condition</td>\n",
       "      <td>5789</td>\n",
       "      <td>Hemorrhage of gastrointestinal tract, unspecified</td>\n",
       "      <td>-1</td>\n",
       "    </tr>\n",
       "    <tr>\n",
       "      <th>1</th>\n",
       "      <td>10009</td>\n",
       "      <td>110342</td>\n",
       "      <td>1896-01-05</td>\n",
       "      <td>condition</td>\n",
       "      <td>2724</td>\n",
       "      <td>Other and unspecified hyperlipidemia</td>\n",
       "      <td>49</td>\n",
       "    </tr>\n",
       "    <tr>\n",
       "      <th>2</th>\n",
       "      <td>10009</td>\n",
       "      <td>110342</td>\n",
       "      <td>1896-01-05</td>\n",
       "      <td>condition</td>\n",
       "      <td>45620</td>\n",
       "      <td>Esophageal varices in diseases classified else...</td>\n",
       "      <td>-1</td>\n",
       "    </tr>\n",
       "    <tr>\n",
       "      <th>3</th>\n",
       "      <td>10009</td>\n",
       "      <td>110342</td>\n",
       "      <td>1896-01-05</td>\n",
       "      <td>condition</td>\n",
       "      <td>78659</td>\n",
       "      <td>Other chest pain</td>\n",
       "      <td>-1</td>\n",
       "    </tr>\n",
       "    <tr>\n",
       "      <th>4</th>\n",
       "      <td>10009</td>\n",
       "      <td>110342</td>\n",
       "      <td>1896-01-05</td>\n",
       "      <td>condition</td>\n",
       "      <td>45981</td>\n",
       "      <td>Venous (peripheral) insufficiency, unspecified</td>\n",
       "      <td>-1</td>\n",
       "    </tr>\n",
       "  </tbody>\n",
       "</table>\n",
       "</div>"
      ],
      "text/plain": [
       "  patient_id visit_id encounter_time event_type event_code  \\\n",
       "0      10009   110342     1896-01-05  condition       5789   \n",
       "1      10009   110342     1896-01-05  condition       2724   \n",
       "2      10009   110342     1896-01-05  condition      45620   \n",
       "3      10009   110342     1896-01-05  condition      78659   \n",
       "4      10009   110342     1896-01-05  condition      45981   \n",
       "\n",
       "                                          event_desc  code_new  \n",
       "0  Hemorrhage of gastrointestinal tract, unspecified        -1  \n",
       "1               Other and unspecified hyperlipidemia        49  \n",
       "2  Esophageal varices in diseases classified else...        -1  \n",
       "3                                   Other chest pain        -1  \n",
       "4     Venous (peripheral) insufficiency, unspecified        -1  "
      ]
     },
     "execution_count": 35,
     "metadata": {},
     "output_type": "execute_result"
    }
   ],
   "source": [
    "data['code_new'] = data['event_desc'].apply(lambda x: words_to_index.get(x, -1))\n",
    "data.head()"
   ]
  },
  {
   "cell_type": "code",
   "execution_count": 36,
   "id": "09bda175",
   "metadata": {},
   "outputs": [
    {
     "data": {
      "text/html": [
       "<div>\n",
       "<style scoped>\n",
       "    .dataframe tbody tr th:only-of-type {\n",
       "        vertical-align: middle;\n",
       "    }\n",
       "\n",
       "    .dataframe tbody tr th {\n",
       "        vertical-align: top;\n",
       "    }\n",
       "\n",
       "    .dataframe thead th {\n",
       "        text-align: right;\n",
       "    }\n",
       "</style>\n",
       "<table border=\"1\" class=\"dataframe\">\n",
       "  <thead>\n",
       "    <tr style=\"text-align: right;\">\n",
       "      <th></th>\n",
       "      <th>patient_id</th>\n",
       "      <th>visit_id</th>\n",
       "      <th>encounter_time</th>\n",
       "      <th>event_type</th>\n",
       "      <th>event_code</th>\n",
       "      <th>event_desc</th>\n",
       "      <th>code_new</th>\n",
       "    </tr>\n",
       "  </thead>\n",
       "  <tbody>\n",
       "    <tr>\n",
       "      <th>1</th>\n",
       "      <td>10009</td>\n",
       "      <td>110342</td>\n",
       "      <td>1896-01-05</td>\n",
       "      <td>condition</td>\n",
       "      <td>2724</td>\n",
       "      <td>Other and unspecified hyperlipidemia</td>\n",
       "      <td>49</td>\n",
       "    </tr>\n",
       "    <tr>\n",
       "      <th>8</th>\n",
       "      <td>10009</td>\n",
       "      <td>110342</td>\n",
       "      <td>1896-01-05</td>\n",
       "      <td>drug</td>\n",
       "      <td>00008092355</td>\n",
       "      <td>pantoprazole 40 MG Injection [Protonix]</td>\n",
       "      <td>18</td>\n",
       "    </tr>\n",
       "    <tr>\n",
       "      <th>9</th>\n",
       "      <td>10009</td>\n",
       "      <td>110342</td>\n",
       "      <td>1896-01-05</td>\n",
       "      <td>drug</td>\n",
       "      <td>00409176230</td>\n",
       "      <td>1 ML morphine sulfate 2 MG/ML Prefilled Syringe</td>\n",
       "      <td>23</td>\n",
       "    </tr>\n",
       "    <tr>\n",
       "      <th>10</th>\n",
       "      <td>10009</td>\n",
       "      <td>110342</td>\n",
       "      <td>1896-01-05</td>\n",
       "      <td>drug</td>\n",
       "      <td>61553008348</td>\n",
       "      <td>Calcium Gluconate 20 MG/ML Injectable Solution</td>\n",
       "      <td>147</td>\n",
       "    </tr>\n",
       "    <tr>\n",
       "      <th>11</th>\n",
       "      <td>10009</td>\n",
       "      <td>110342</td>\n",
       "      <td>1896-01-05</td>\n",
       "      <td>drug</td>\n",
       "      <td>63323026201</td>\n",
       "      <td>heparin sodium, porcine 5000 UNT/ML Injectable...</td>\n",
       "      <td>4</td>\n",
       "    </tr>\n",
       "    <tr>\n",
       "      <th>...</th>\n",
       "      <td>...</td>\n",
       "      <td>...</td>\n",
       "      <td>...</td>\n",
       "      <td>...</td>\n",
       "      <td>...</td>\n",
       "      <td>...</td>\n",
       "      <td>...</td>\n",
       "    </tr>\n",
       "    <tr>\n",
       "      <th>160343</th>\n",
       "      <td>9998</td>\n",
       "      <td>110330</td>\n",
       "      <td>2158-02-26</td>\n",
       "      <td>drug</td>\n",
       "      <td>00031670972</td>\n",
       "      <td>Metoclopramide 5 MG/ML Injectable Solution [Re...</td>\n",
       "      <td>179</td>\n",
       "    </tr>\n",
       "    <tr>\n",
       "      <th>160345</th>\n",
       "      <td>9998</td>\n",
       "      <td>110330</td>\n",
       "      <td>2158-02-26</td>\n",
       "      <td>drug</td>\n",
       "      <td>00597001314</td>\n",
       "      <td>200 ACTUAT Albuterol 0.09 MG/ACTUAT / Ipratrop...</td>\n",
       "      <td>156</td>\n",
       "    </tr>\n",
       "    <tr>\n",
       "      <th>160348</th>\n",
       "      <td>9998</td>\n",
       "      <td>110330</td>\n",
       "      <td>2158-02-26</td>\n",
       "      <td>drug</td>\n",
       "      <td>00182125989</td>\n",
       "      <td>Trazodone Hydrochloride 50 MG Oral Tablet</td>\n",
       "      <td>115</td>\n",
       "    </tr>\n",
       "    <tr>\n",
       "      <th>160353</th>\n",
       "      <td>9998</td>\n",
       "      <td>110330</td>\n",
       "      <td>2158-02-26</td>\n",
       "      <td>drug</td>\n",
       "      <td>00054865024</td>\n",
       "      <td>Acetaminophen 325 MG / Oxycodone Hydrochloride...</td>\n",
       "      <td>153</td>\n",
       "    </tr>\n",
       "    <tr>\n",
       "      <th>160369</th>\n",
       "      <td>9998</td>\n",
       "      <td>110331</td>\n",
       "      <td>2158-03-06</td>\n",
       "      <td>condition</td>\n",
       "      <td>4280</td>\n",
       "      <td>Congestive heart failure, unspecified</td>\n",
       "      <td>15</td>\n",
       "    </tr>\n",
       "  </tbody>\n",
       "</table>\n",
       "<p>87180 rows × 7 columns</p>\n",
       "</div>"
      ],
      "text/plain": [
       "       patient_id visit_id encounter_time event_type   event_code  \\\n",
       "1           10009   110342     1896-01-05  condition         2724   \n",
       "8           10009   110342     1896-01-05       drug  00008092355   \n",
       "9           10009   110342     1896-01-05       drug  00409176230   \n",
       "10          10009   110342     1896-01-05       drug  61553008348   \n",
       "11          10009   110342     1896-01-05       drug  63323026201   \n",
       "...           ...      ...            ...        ...          ...   \n",
       "160343       9998   110330     2158-02-26       drug  00031670972   \n",
       "160345       9998   110330     2158-02-26       drug  00597001314   \n",
       "160348       9998   110330     2158-02-26       drug  00182125989   \n",
       "160353       9998   110330     2158-02-26       drug  00054865024   \n",
       "160369       9998   110331     2158-03-06  condition         4280   \n",
       "\n",
       "                                               event_desc  code_new  \n",
       "1                    Other and unspecified hyperlipidemia        49  \n",
       "8                 pantoprazole 40 MG Injection [Protonix]        18  \n",
       "9         1 ML morphine sulfate 2 MG/ML Prefilled Syringe        23  \n",
       "10         Calcium Gluconate 20 MG/ML Injectable Solution       147  \n",
       "11      heparin sodium, porcine 5000 UNT/ML Injectable...         4  \n",
       "...                                                   ...       ...  \n",
       "160343  Metoclopramide 5 MG/ML Injectable Solution [Re...       179  \n",
       "160345  200 ACTUAT Albuterol 0.09 MG/ACTUAT / Ipratrop...       156  \n",
       "160348          Trazodone Hydrochloride 50 MG Oral Tablet       115  \n",
       "160353  Acetaminophen 325 MG / Oxycodone Hydrochloride...       153  \n",
       "160369              Congestive heart failure, unspecified        15  \n",
       "\n",
       "[87180 rows x 7 columns]"
      ]
     },
     "execution_count": 36,
     "metadata": {},
     "output_type": "execute_result"
    }
   ],
   "source": [
    "data[data['code_new']!=-1]"
   ]
  },
  {
   "cell_type": "code",
   "execution_count": null,
   "id": "a3e743dd",
   "metadata": {},
   "outputs": [],
   "source": []
  },
  {
   "cell_type": "code",
   "execution_count": null,
   "id": "c42d746b",
   "metadata": {},
   "outputs": [],
   "source": []
  },
  {
   "cell_type": "code",
   "execution_count": null,
   "id": "3e1b2089",
   "metadata": {},
   "outputs": [],
   "source": []
  },
  {
   "cell_type": "code",
   "execution_count": null,
   "id": "16f812d6",
   "metadata": {},
   "outputs": [],
   "source": []
  },
  {
   "cell_type": "markdown",
   "id": "aa4c16aa",
   "metadata": {},
   "source": [
    "## Define healthcare task "
   ]
  },
  {
   "cell_type": "code",
   "execution_count": 37,
   "id": "d2411b77",
   "metadata": {},
   "outputs": [
    {
     "name": "stderr",
     "output_type": "stream",
     "text": [
      "Generating samples for readmission_prediction_mimic3_fn: 100%|███████████████| 49993/49993 [00:00<00:00, 306123.23it/s]\n"
     ]
    },
    {
     "name": "stdout",
     "output_type": "stream",
     "text": [
      "Statistics of sample dataset:\n",
      "\t- Dataset: MIMIC3Dataset\n",
      "\t- Task: readmission_prediction_mimic3_fn\n",
      "\t- Number of samples: 2194\n",
      "\t- Number of patients: 2116\n",
      "\t- Number of visits: 2194\n",
      "\t- Number of visits per patient: 1.0369\n",
      "\t- conditions:\n",
      "\t\t- Number of conditions per sample: 10.3414\n",
      "\t\t- Number of unique conditions: 2526\n",
      "\t\t- Distribution of conditions (Top-10): [('4019', 875), ('41401', 591), ('42731', 540), ('25000', 483), ('4280', 472), ('2724', 324), ('5849', 297), ('53081', 280), ('5990', 264), ('2720', 254)]\n",
      "\t- procedures:\n",
      "\t\t- Number of procedures per sample: 4.0789\n",
      "\t\t- Number of unique procedures: 815\n",
      "\t\t- Distribution of procedures (Top-10): [('3893', 458), ('3961', 419), ('9904', 393), ('8856', 250), ('3615', 234), ('9604', 222), ('966', 213), ('8872', 208), ('9671', 181), ('3722', 177)]\n",
      "\t- drugs:\n",
      "\t\t- Number of drugs per sample: 35.5228\n",
      "\t\t- Number of unique drugs: 2424\n",
      "\t\t- Distribution of drugs (Top-10): [('00338001702', 1023), ('00008084199', 903), ('51079025520', 893), ('00338004938', 887), ('00338004904', 829), ('00338004902', 791), ('00338070341', 782), ('00338004903', 744), ('00456066270', 682), ('00641040025', 655)]\n",
      "\t- label:\n",
      "\t\t- Number of label per sample: 1.0000\n",
      "\t\t- Number of unique label: 2\n",
      "\t\t- Distribution of label (Top-10): [(0, 1922), (1, 272)]\n"
     ]
    },
    {
     "data": {
      "text/plain": [
       "\"Statistics of sample dataset:\\n\\t- Dataset: MIMIC3Dataset\\n\\t- Task: readmission_prediction_mimic3_fn\\n\\t- Number of samples: 2194\\n\\t- Number of patients: 2116\\n\\t- Number of visits: 2194\\n\\t- Number of visits per patient: 1.0369\\n\\t- conditions:\\n\\t\\t- Number of conditions per sample: 10.3414\\n\\t\\t- Number of unique conditions: 2526\\n\\t\\t- Distribution of conditions (Top-10): [('4019', 875), ('41401', 591), ('42731', 540), ('25000', 483), ('4280', 472), ('2724', 324), ('5849', 297), ('53081', 280), ('5990', 264), ('2720', 254)]\\n\\t- procedures:\\n\\t\\t- Number of procedures per sample: 4.0789\\n\\t\\t- Number of unique procedures: 815\\n\\t\\t- Distribution of procedures (Top-10): [('3893', 458), ('3961', 419), ('9904', 393), ('8856', 250), ('3615', 234), ('9604', 222), ('966', 213), ('8872', 208), ('9671', 181), ('3722', 177)]\\n\\t- drugs:\\n\\t\\t- Number of drugs per sample: 35.5228\\n\\t\\t- Number of unique drugs: 2424\\n\\t\\t- Distribution of drugs (Top-10): [('00338001702', 1023), ('00008084199', 903), ('51079025520', 893), ('00338004938', 887), ('00338004904', 829), ('00338004902', 791), ('00338070341', 782), ('00338004903', 744), ('00456066270', 682), ('00641040025', 655)]\\n\\t- label:\\n\\t\\t- Number of label per sample: 1.0000\\n\\t\\t- Number of unique label: 2\\n\\t\\t- Distribution of label (Top-10): [(0, 1922), (1, 272)]\""
      ]
     },
     "execution_count": 37,
     "metadata": {},
     "output_type": "execute_result"
    }
   ],
   "source": [
    "# from pyhealth.tasks import readmission_prediction_mimic3_fn\n",
    "\n",
    "mimic3_ds_new = mimic3_ds.set_task(task_fn=readmission_prediction_mimic3_fn)\n",
    "# stats info\n",
    "mimic3_ds_new.stat()"
   ]
  },
  {
   "cell_type": "code",
   "execution_count": 39,
   "id": "36a384e2",
   "metadata": {},
   "outputs": [
    {
     "data": {
      "text/plain": [
       "{'visit_id': '101067',\n",
       " 'patient_id': '1014',\n",
       " 'conditions': [['5990', '5559', '25000', 'V090', '20280', '7905', '71596']],\n",
       " 'procedures': [['5551']],\n",
       " 'drugs': [['00074729501', '54569022500', '00008058107', '63323036820']],\n",
       " 'label': 0}"
      ]
     },
     "execution_count": 39,
     "metadata": {},
     "output_type": "execute_result"
    }
   ],
   "source": [
    "mimic3_ds_new.samples[4]"
   ]
  },
  {
   "cell_type": "code",
   "execution_count": 40,
   "id": "3dc6bf34",
   "metadata": {},
   "outputs": [
    {
     "data": {
      "text/plain": [
       "2194"
      ]
     },
     "execution_count": 40,
     "metadata": {},
     "output_type": "execute_result"
    }
   ],
   "source": [
    "len(mimic3_ds_new.samples)"
   ]
  },
  {
   "cell_type": "code",
   "execution_count": null,
   "id": "4b0d7bd6",
   "metadata": {},
   "outputs": [],
   "source": []
  },
  {
   "cell_type": "code",
   "execution_count": null,
   "id": "286bdfce",
   "metadata": {},
   "outputs": [],
   "source": []
  },
  {
   "cell_type": "code",
   "execution_count": 43,
   "id": "18d3a19f",
   "metadata": {},
   "outputs": [],
   "source": [
    "from pyhealth.datasets.splitter import split_by_patient\n",
    "from pyhealth.datasets import split_by_patient, get_dataloader\n",
    "\n",
    "# data split\n",
    "train_dataset, val_dataset, test_dataset = split_by_patient(mimic3_ds_new, [0.8, 0.1, 0.1])\n",
    "\n",
    "# create dataloaders (they are <torch.data.DataLoader> object)\n",
    "train_loader = get_dataloader(train_dataset, batch_size=64, shuffle=True)\n",
    "val_loader = get_dataloader(val_dataset, batch_size=64, shuffle=False)\n",
    "test_loader = get_dataloader(test_dataset, batch_size=64, shuffle=False)"
   ]
  },
  {
   "cell_type": "markdown",
   "id": "f7e2c8f7",
   "metadata": {},
   "source": [
    "## Define ML Model "
   ]
  },
  {
   "cell_type": "code",
   "execution_count": 44,
   "id": "5816b6d2",
   "metadata": {},
   "outputs": [],
   "source": [
    "from pyhealth.models import Transformer\n",
    "\n",
    "model = Transformer(\n",
    "    dataset=mimic3_ds_new,\n",
    "    # look up what are available for \"feature_keys\" and \"label_keys\" in dataset.samples[0]\n",
    "    feature_keys=[\"conditions\", \"procedures\"],\n",
    "    label_key=\"label\",\n",
    "    mode=\"binary\",\n",
    ")"
   ]
  },
  {
   "cell_type": "markdown",
   "id": "f3e4f313",
   "metadata": {},
   "source": [
    "## training"
   ]
  },
  {
   "cell_type": "code",
   "execution_count": 45,
   "id": "02e665b5",
   "metadata": {},
   "outputs": [
    {
     "name": "stderr",
     "output_type": "stream",
     "text": [
      "Transformer(\n",
      "  (embeddings): ModuleDict(\n",
      "    (conditions): Embedding(2528, 128, padding_idx=0)\n",
      "    (procedures): Embedding(817, 128, padding_idx=0)\n",
      "  )\n",
      "  (linear_layers): ModuleDict()\n",
      "  (transformer): ModuleDict(\n",
      "    (conditions): TransformerLayer(\n",
      "      (transformer): ModuleList(\n",
      "        (0): TransformerBlock(\n",
      "          (attention): MultiHeadedAttention(\n",
      "            (linear_layers): ModuleList(\n",
      "              (0-2): 3 x Linear(in_features=128, out_features=128, bias=False)\n",
      "            )\n",
      "            (output_linear): Linear(in_features=128, out_features=128, bias=False)\n",
      "            (attention): Attention()\n",
      "            (dropout): Dropout(p=0.1, inplace=False)\n",
      "          )\n",
      "          (feed_forward): PositionwiseFeedForward(\n",
      "            (w_1): Linear(in_features=128, out_features=512, bias=True)\n",
      "            (w_2): Linear(in_features=512, out_features=128, bias=True)\n",
      "            (dropout): Dropout(p=0.5, inplace=False)\n",
      "            (activation): GELU(approximate='none')\n",
      "          )\n",
      "          (input_sublayer): SublayerConnection(\n",
      "            (norm): LayerNorm((128,), eps=1e-05, elementwise_affine=True)\n",
      "            (dropout): Dropout(p=0.5, inplace=False)\n",
      "          )\n",
      "          (output_sublayer): SublayerConnection(\n",
      "            (norm): LayerNorm((128,), eps=1e-05, elementwise_affine=True)\n",
      "            (dropout): Dropout(p=0.5, inplace=False)\n",
      "          )\n",
      "          (dropout): Dropout(p=0.5, inplace=False)\n",
      "        )\n",
      "      )\n",
      "    )\n",
      "    (procedures): TransformerLayer(\n",
      "      (transformer): ModuleList(\n",
      "        (0): TransformerBlock(\n",
      "          (attention): MultiHeadedAttention(\n",
      "            (linear_layers): ModuleList(\n",
      "              (0-2): 3 x Linear(in_features=128, out_features=128, bias=False)\n",
      "            )\n",
      "            (output_linear): Linear(in_features=128, out_features=128, bias=False)\n",
      "            (attention): Attention()\n",
      "            (dropout): Dropout(p=0.1, inplace=False)\n",
      "          )\n",
      "          (feed_forward): PositionwiseFeedForward(\n",
      "            (w_1): Linear(in_features=128, out_features=512, bias=True)\n",
      "            (w_2): Linear(in_features=512, out_features=128, bias=True)\n",
      "            (dropout): Dropout(p=0.5, inplace=False)\n",
      "            (activation): GELU(approximate='none')\n",
      "          )\n",
      "          (input_sublayer): SublayerConnection(\n",
      "            (norm): LayerNorm((128,), eps=1e-05, elementwise_affine=True)\n",
      "            (dropout): Dropout(p=0.5, inplace=False)\n",
      "          )\n",
      "          (output_sublayer): SublayerConnection(\n",
      "            (norm): LayerNorm((128,), eps=1e-05, elementwise_affine=True)\n",
      "            (dropout): Dropout(p=0.5, inplace=False)\n",
      "          )\n",
      "          (dropout): Dropout(p=0.5, inplace=False)\n",
      "        )\n",
      "      )\n",
      "    )\n",
      "  )\n",
      "  (fc): Linear(in_features=256, out_features=1, bias=True)\n",
      ")\n",
      "Metrics: None\n",
      "Device: cpu\n",
      "\n",
      "Training:\n",
      "Batch size: 64\n",
      "Optimizer: <class 'torch.optim.adam.Adam'>\n",
      "Optimizer params: {'lr': 0.001}\n",
      "Weight decay: 0.0\n",
      "Max grad norm: None\n",
      "Val dataloader: <torch.utils.data.dataloader.DataLoader object at 0x000002478A33CB20>\n",
      "Monitor: pr_auc\n",
      "Monitor criterion: max\n",
      "Epochs: 3\n",
      "\n",
      "Epoch 0 / 3: 100%|█████████████████████████████████████████████████████████████████████| 28/28 [00:00<00:00, 50.73it/s]\n",
      "--- Train epoch-0, step-28 ---\n",
      "loss: 0.5676\n",
      "Evaluation: 100%|███████████████████████████████████████████████████████████████████████| 4/4 [00:00<00:00, 160.03it/s]\n",
      "--- Eval epoch-0, step-28 ---\n",
      "pr_auc: 0.1285\n",
      "roc_auc: 0.4015\n",
      "f1: 0.0000\n",
      "loss: 0.5127\n",
      "New best pr_auc score (0.1285) at epoch-0, step-28\n",
      "\n",
      "Epoch 1 / 3: 100%|█████████████████████████████████████████████████████████████████████| 28/28 [00:00<00:00, 60.01it/s]\n",
      "--- Train epoch-1, step-56 ---\n",
      "loss: 0.4284\n",
      "Evaluation: 100%|███████████████████████████████████████████████████████████████████████| 4/4 [00:00<00:00, 148.12it/s]\n",
      "--- Eval epoch-1, step-56 ---\n",
      "pr_auc: 0.1213\n",
      "roc_auc: 0.4109\n",
      "f1: 0.0000\n",
      "loss: 0.5021\n",
      "\n",
      "Epoch 2 / 3: 100%|█████████████████████████████████████████████████████████████████████| 28/28 [00:00<00:00, 61.05it/s]\n",
      "--- Train epoch-2, step-84 ---\n",
      "loss: 0.4136\n",
      "Evaluation: 100%|███████████████████████████████████████████████████████████████████████| 4/4 [00:00<00:00, 142.79it/s]\n",
      "--- Eval epoch-2, step-84 ---\n",
      "pr_auc: 0.1379\n",
      "roc_auc: 0.4185\n",
      "f1: 0.0000\n",
      "loss: 0.4977\n",
      "New best pr_auc score (0.1379) at epoch-2, step-84\n",
      "Loaded best model\n"
     ]
    }
   ],
   "source": [
    "from pyhealth.trainer import Trainer\n",
    "\n",
    "trainer = Trainer(model=model)\n",
    "trainer.train(\n",
    "    train_dataloader=train_loader,\n",
    "    val_dataloader=val_loader,\n",
    "    epochs=3,\n",
    "    monitor=\"pr_auc\",\n",
    ")"
   ]
  },
  {
   "cell_type": "markdown",
   "id": "72e1c400",
   "metadata": {},
   "source": [
    "##  Evaluation"
   ]
  },
  {
   "cell_type": "code",
   "execution_count": 46,
   "id": "96529d91",
   "metadata": {},
   "outputs": [
    {
     "name": "stderr",
     "output_type": "stream",
     "text": [
      "Evaluation: 100%|███████████████████████████████████████████████████████████████████████| 4/4 [00:00<00:00, 161.36it/s]\n"
     ]
    },
    {
     "name": "stdout",
     "output_type": "stream",
     "text": [
      "{'pr_auc': 0.15019313820734978, 'roc_auc': 0.46232339089481944, 'f1': 0.0, 'loss': 0.5978050008416176}\n"
     ]
    },
    {
     "name": "stderr",
     "output_type": "stream",
     "text": [
      "Evaluation: 100%|███████████████████████████████████████████████████████████████████████| 4/4 [00:00<00:00, 190.33it/s]\n"
     ]
    },
    {
     "data": {
      "text/plain": [
       "{'pr_auc': 0.15019313820734978}"
      ]
     },
     "execution_count": 46,
     "metadata": {},
     "output_type": "execute_result"
    }
   ],
   "source": [
    "# option 1: use our built-in evaluation metric\n",
    "score = trainer.evaluate(test_loader)\n",
    "print (score)\n",
    "\n",
    "# option 2: use our pyhealth.metrics to evaluate\n",
    "from pyhealth.metrics.binary import binary_metrics_fn\n",
    "y_true, y_prob, loss = trainer.inference(test_loader)\n",
    "binary_metrics_fn(y_true, y_prob, metrics=[\"pr_auc\"])"
   ]
  },
  {
   "cell_type": "code",
   "execution_count": null,
   "id": "e6ebb1fb",
   "metadata": {},
   "outputs": [],
   "source": []
  },
  {
   "cell_type": "markdown",
   "id": "0a9ded5c",
   "metadata": {},
   "source": [
    "# appendix"
   ]
  },
  {
   "cell_type": "code",
   "execution_count": 48,
   "id": "fbfb0cc9",
   "metadata": {},
   "outputs": [
    {
     "ename": "UnicodeDecodeError",
     "evalue": "'charmap' codec can't decode byte 0x90 in position 169: character maps to <undefined>",
     "output_type": "error",
     "traceback": [
      "\u001b[1;31m---------------------------------------------------------------------------\u001b[0m",
      "\u001b[1;31mUnicodeDecodeError\u001b[0m                        Traceback (most recent call last)",
      "Cell \u001b[1;32mIn[48], line 5\u001b[0m\n\u001b[0;32m      3\u001b[0m path \u001b[38;5;241m=\u001b[39m \u001b[38;5;124m\"\u001b[39m\u001b[38;5;124m../resource/X_train.pkl\u001b[39m\u001b[38;5;124m\"\u001b[39m\n\u001b[0;32m      4\u001b[0m \u001b[38;5;28;01mwith\u001b[39;00m \u001b[38;5;28mopen\u001b[39m(path) \u001b[38;5;28;01mas\u001b[39;00m f:\n\u001b[1;32m----> 5\u001b[0m     obj \u001b[38;5;241m=\u001b[39m \u001b[43mpickle\u001b[49m\u001b[38;5;241;43m.\u001b[39;49m\u001b[43mload\u001b[49m\u001b[43m(\u001b[49m\u001b[43mf\u001b[49m\u001b[43m)\u001b[49m\n\u001b[0;32m      6\u001b[0m     \u001b[38;5;28mprint\u001b[39m(\u001b[38;5;124m\"\u001b[39m\u001b[38;5;124m [*] load \u001b[39m\u001b[38;5;132;01m%s\u001b[39;00m\u001b[38;5;124m\"\u001b[39m \u001b[38;5;241m%\u001b[39m path)\n",
      "File \u001b[1;32m~\\AppData\\Local\\Programs\\Python\\Python39\\lib\\encodings\\cp1252.py:23\u001b[0m, in \u001b[0;36mIncrementalDecoder.decode\u001b[1;34m(self, input, final)\u001b[0m\n\u001b[0;32m     22\u001b[0m \u001b[38;5;28;01mdef\u001b[39;00m \u001b[38;5;21mdecode\u001b[39m(\u001b[38;5;28mself\u001b[39m, \u001b[38;5;28minput\u001b[39m, final\u001b[38;5;241m=\u001b[39m\u001b[38;5;28;01mFalse\u001b[39;00m):\n\u001b[1;32m---> 23\u001b[0m     \u001b[38;5;28;01mreturn\u001b[39;00m \u001b[43mcodecs\u001b[49m\u001b[38;5;241;43m.\u001b[39;49m\u001b[43mcharmap_decode\u001b[49m\u001b[43m(\u001b[49m\u001b[38;5;28;43minput\u001b[39;49m\u001b[43m,\u001b[49m\u001b[38;5;28;43mself\u001b[39;49m\u001b[38;5;241;43m.\u001b[39;49m\u001b[43merrors\u001b[49m\u001b[43m,\u001b[49m\u001b[43mdecoding_table\u001b[49m\u001b[43m)\u001b[49m[\u001b[38;5;241m0\u001b[39m]\n",
      "\u001b[1;31mUnicodeDecodeError\u001b[0m: 'charmap' codec can't decode byte 0x90 in position 169: character maps to <undefined>"
     ]
    }
   ],
   "source": [
    "import pickle\n",
    "\n",
    "path = \"../resource/X_train.pkl\"\n",
    "with open(path) as f:\n",
    "    obj = pickle.load(f)\n",
    "    print(\" [*] load %s\" % path)\n"
   ]
  }
 ],
 "metadata": {
  "kernelspec": {
   "display_name": "Python 3 (ipykernel)",
   "language": "python",
   "name": "python3"
  },
  "language_info": {
   "codemirror_mode": {
    "name": "ipython",
    "version": 3
   },
   "file_extension": ".py",
   "mimetype": "text/x-python",
   "name": "python",
   "nbconvert_exporter": "python",
   "pygments_lexer": "ipython3",
   "version": "3.9.10"
  }
 },
 "nbformat": 4,
 "nbformat_minor": 5
}
