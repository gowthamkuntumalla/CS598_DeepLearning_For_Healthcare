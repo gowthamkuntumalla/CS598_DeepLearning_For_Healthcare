{
 "cells": [
  {
   "cell_type": "markdown",
   "id": "ba37fab0",
   "metadata": {},
   "source": [
    "# "
   ]
  },
  {
   "cell_type": "markdown",
   "id": "306d2362",
   "metadata": {},
   "source": [
    "## packages installation "
   ]
  },
  {
   "cell_type": "code",
   "execution_count": 1,
   "id": "2df72594",
   "metadata": {},
   "outputs": [
    {
     "name": "stdout",
     "output_type": "stream",
     "text": [
      "Requirement already satisfied: pyhealth in c:\\users\\liyim\\appdata\\local\\programs\\python\\python311\\lib\\site-packages (1.1.3)\n",
      "Requirement already satisfied: torch>=1.8.0 in c:\\users\\liyim\\appdata\\local\\programs\\python\\python311\\lib\\site-packages (from pyhealth) (2.0.0)\n",
      "Requirement already satisfied: rdkit>=2022.03.4 in c:\\users\\liyim\\appdata\\local\\programs\\python\\python311\\lib\\site-packages (from pyhealth) (2022.9.5)\n",
      "Requirement already satisfied: scikit-learn>=0.24.2 in c:\\users\\liyim\\appdata\\local\\programs\\python\\python311\\lib\\site-packages (from pyhealth) (1.2.2)\n",
      "Requirement already satisfied: networkx>=2.6.3 in c:\\users\\liyim\\appdata\\local\\programs\\python\\python311\\lib\\site-packages (from pyhealth) (3.0)\n",
      "Requirement already satisfied: pandas>=1.3.2 in c:\\users\\liyim\\appdata\\local\\programs\\python\\python311\\lib\\site-packages (from pyhealth) (1.5.3)\n",
      "Requirement already satisfied: tqdm in c:\\users\\liyim\\appdata\\local\\programs\\python\\python311\\lib\\site-packages (from pyhealth) (4.64.1)\n",
      "Requirement already satisfied: python-dateutil>=2.8.1 in c:\\users\\liyim\\appdata\\local\\programs\\python\\python311\\lib\\site-packages (from pandas>=1.3.2->pyhealth) (2.8.2)\n",
      "Requirement already satisfied: pytz>=2020.1 in c:\\users\\liyim\\appdata\\local\\programs\\python\\python311\\lib\\site-packages (from pandas>=1.3.2->pyhealth) (2022.7.1)\n",
      "Requirement already satisfied: numpy>=1.21.0 in c:\\users\\liyim\\appdata\\local\\programs\\python\\python311\\lib\\site-packages (from pandas>=1.3.2->pyhealth) (1.24.2)\n",
      "Requirement already satisfied: Pillow in c:\\users\\liyim\\appdata\\local\\programs\\python\\python311\\lib\\site-packages (from rdkit>=2022.03.4->pyhealth) (9.4.0)\n",
      "Requirement already satisfied: scipy>=1.3.2 in c:\\users\\liyim\\appdata\\local\\programs\\python\\python311\\lib\\site-packages (from scikit-learn>=0.24.2->pyhealth) (1.10.1)\n",
      "Requirement already satisfied: joblib>=1.1.1 in c:\\users\\liyim\\appdata\\local\\programs\\python\\python311\\lib\\site-packages (from scikit-learn>=0.24.2->pyhealth) (1.2.0)\n",
      "Requirement already satisfied: threadpoolctl>=2.0.0 in c:\\users\\liyim\\appdata\\local\\programs\\python\\python311\\lib\\site-packages (from scikit-learn>=0.24.2->pyhealth) (3.1.0)\n",
      "Requirement already satisfied: filelock in c:\\users\\liyim\\appdata\\local\\programs\\python\\python311\\lib\\site-packages (from torch>=1.8.0->pyhealth) (3.10.0)\n",
      "Requirement already satisfied: typing-extensions in c:\\users\\liyim\\appdata\\local\\programs\\python\\python311\\lib\\site-packages (from torch>=1.8.0->pyhealth) (4.5.0)\n",
      "Requirement already satisfied: sympy in c:\\users\\liyim\\appdata\\local\\programs\\python\\python311\\lib\\site-packages (from torch>=1.8.0->pyhealth) (1.11.1)\n",
      "Requirement already satisfied: jinja2 in c:\\users\\liyim\\appdata\\local\\programs\\python\\python311\\lib\\site-packages (from torch>=1.8.0->pyhealth) (3.1.2)\n",
      "Requirement already satisfied: colorama in c:\\users\\liyim\\appdata\\local\\programs\\python\\python311\\lib\\site-packages (from tqdm->pyhealth) (0.4.6)\n",
      "Requirement already satisfied: six>=1.5 in c:\\users\\liyim\\appdata\\local\\programs\\python\\python311\\lib\\site-packages (from python-dateutil>=2.8.1->pandas>=1.3.2->pyhealth) (1.16.0)\n",
      "Requirement already satisfied: MarkupSafe>=2.0 in c:\\users\\liyim\\appdata\\local\\programs\\python\\python311\\lib\\site-packages (from jinja2->torch>=1.8.0->pyhealth) (2.1.2)\n",
      "Requirement already satisfied: mpmath>=0.19 in c:\\users\\liyim\\appdata\\local\\programs\\python\\python311\\lib\\site-packages (from sympy->torch>=1.8.0->pyhealth) (1.3.0)\n"
     ]
    }
   ],
   "source": [
    "!pip install pyhealth"
   ]
  },
  {
   "cell_type": "markdown",
   "id": "3b03b367",
   "metadata": {},
   "source": [
    "## Load dataset"
   ]
  },
  {
   "cell_type": "markdown",
   "id": "ff4782e7",
   "metadata": {},
   "source": [
    "description on each table here:\n",
    "\n",
    "1. DIAGNOSES_ICD: https://mimic.mit.edu/docs/iii/tables/diagnoses_icd/\n",
    "\n",
    "ROW_ID, SUBJECT_ID, HADM_ID, SEQ_NUM, ICD9_CODE\n",
    "SUBJECT_ID is unique to a patient and HADM_ID is unique to a patient hospital stay.\n",
    "SEQ_NUM provides the order in which the ICD diagnoses relate to the patient\n",
    "ICD9_CODE contains the actual code corresponding to the diagnosis assigned to the patient for the given row\n",
    "\n",
    "Links to:\n",
    "\n",
    "PATIENTS on SUBJECT_ID\n",
    "ADMISSIONS on HADM_ID\n",
    "D_ICD_DIAGNOSES on ICD9_CODE\n",
    "\n",
    "2. PROCEDURES_ICD: https://mimic.mit.edu/docs/iii/tables/procedures_icd/\n",
    "\n",
    "ROW_ID, SUBJECT_ID, HADM_ID, SEQ_NUM, ICD9_CODE\n",
    "\n",
    "ICD9_CODE provides the ICD-9 code for the given procedure\n",
    "\n",
    "3. PRESCRIPTIONS: https://mimic.mit.edu/docs/iii/tables/prescriptions/\n",
    "\n",
    "ROW_ID, SUBJECT_ID, HADM_ID, ICUSTAY_ID, DRUG\n",
    "\n",
    "Links to:\n",
    "\n",
    "PATIENTS on SUBJECT_ID\n",
    "ADMISSIONS on HADM_ID\n",
    "ICUSTAYS on ICUSTAY_ID"
   ]
  },
  {
   "cell_type": "code",
   "execution_count": 2,
   "id": "3bd06fc7",
   "metadata": {},
   "outputs": [
    {
     "name": "stdout",
     "output_type": "stream",
     "text": [
      "\n",
      "Statistics of base dataset (dev=False):\n",
      "\t- Dataset: MIMIC3Dataset\n",
      "\t- Number of patients: 49993\n",
      "\t- Number of visits: 52769\n",
      "\t- Number of visits per patient: 1.0555\n",
      "\t- Number of events per visit in DIAGNOSES_ICD: 9.1038\n",
      "\t- Number of events per visit in PROCEDURES_ICD: 3.2186\n",
      "\t- Number of events per visit in PRESCRIPTIONS: 25.9600\n",
      "\n"
     ]
    },
    {
     "data": {
      "text/plain": [
       "'\\nStatistics of base dataset (dev=False):\\n\\t- Dataset: MIMIC3Dataset\\n\\t- Number of patients: 49993\\n\\t- Number of visits: 52769\\n\\t- Number of visits per patient: 1.0555\\n\\t- Number of events per visit in DIAGNOSES_ICD: 9.1038\\n\\t- Number of events per visit in PROCEDURES_ICD: 3.2186\\n\\t- Number of events per visit in PRESCRIPTIONS: 25.9600\\n'"
      ]
     },
     "execution_count": 2,
     "metadata": {},
     "output_type": "execute_result"
    }
   ],
   "source": [
    "from pyhealth.datasets import MIMIC3Dataset\n",
    "\n",
    "mimic3_ds = MIMIC3Dataset(\n",
    "        root=\"https://storage.googleapis.com/pyhealth/Synthetic_MIMIC-III/\",\n",
    "        tables=[\"DIAGNOSES_ICD\", \"PROCEDURES_ICD\", \"PRESCRIPTIONS\"],\n",
    ")\n",
    "\n",
    "mimic3_ds.stat()"
   ]
  },
  {
   "cell_type": "code",
   "execution_count": 3,
   "id": "919956f7",
   "metadata": {},
   "outputs": [
    {
     "name": "stdout",
     "output_type": "stream",
     "text": [
      "\n",
      "dataset.patients: patient_id -> <Patient>\n",
      "\n",
      "<Patient>\n",
      "    - visits: visit_id -> <Visit> \n",
      "    - other patient-level info\n",
      "    \n",
      "    <Visit>\n",
      "        - event_list_dict: table_name -> List[Event]\n",
      "        - other visit-level info\n",
      "    \n",
      "        <Event>\n",
      "            - code: str\n",
      "            - other event-level info\n",
      "\n"
     ]
    }
   ],
   "source": [
    "# data format\n",
    "mimic3_ds.info()"
   ]
  },
  {
   "cell_type": "code",
   "execution_count": 4,
   "id": "2fb4ea89",
   "metadata": {},
   "outputs": [
    {
     "data": {
      "text/plain": [
       "Patient 10092 with 2 visits"
      ]
     },
     "execution_count": 4,
     "metadata": {},
     "output_type": "execute_result"
    }
   ],
   "source": [
    "mimic3_ds.patients['10092']"
   ]
  },
  {
   "cell_type": "code",
   "execution_count": 5,
   "id": "77b1cbf1",
   "metadata": {},
   "outputs": [
    {
     "data": {
      "text/plain": [
       "{0: '110429', 1: '110430'}"
      ]
     },
     "execution_count": 5,
     "metadata": {},
     "output_type": "execute_result"
    }
   ],
   "source": [
    "mimic3_ds.patients['10092'].index_to_visit_id"
   ]
  },
  {
   "cell_type": "code",
   "execution_count": 7,
   "id": "b61f98f0",
   "metadata": {},
   "outputs": [
    {
     "data": {
      "text/plain": [
       "Visit 110429 from patient 10092 with 15 events from tables ['DIAGNOSES_ICD', 'PROCEDURES_ICD', 'PRESCRIPTIONS']"
      ]
     },
     "execution_count": 7,
     "metadata": {},
     "output_type": "execute_result"
    }
   ],
   "source": [
    "mimic3_ds.patients['10092'].visits['110429']"
   ]
  },
  {
   "cell_type": "code",
   "execution_count": 8,
   "id": "57d2d64b",
   "metadata": {},
   "outputs": [
    {
     "data": {
      "text/plain": [
       "{'DIAGNOSES_ICD': [Event with ICD9CM code 53081 from table DIAGNOSES_ICD,\n",
       "  Event with ICD9CM code 5715 from table DIAGNOSES_ICD,\n",
       "  Event with ICD9CM code 5185 from table DIAGNOSES_ICD,\n",
       "  Event with ICD9CM code 5180 from table DIAGNOSES_ICD,\n",
       "  Event with ICD9CM code 1623 from table DIAGNOSES_ICD,\n",
       "  Event with ICD9CM code 5672 from table DIAGNOSES_ICD,\n",
       "  Event with ICD9CM code 8748 from table DIAGNOSES_ICD,\n",
       "  Event with ICD9CM code 7812 from table DIAGNOSES_ICD,\n",
       "  Event with ICD9CM code 3229 from table DIAGNOSES_ICD],\n",
       " 'PROCEDURES_ICD': [Event with ICD9PROC code 3409 from table PROCEDURES_ICD],\n",
       " 'PRESCRIPTIONS': [Event with NDC code 00034120081 from table PRESCRIPTIONS,\n",
       "  Event with NDC code 00054858324 from table PRESCRIPTIONS,\n",
       "  Event with NDC code 63323026201 from table PRESCRIPTIONS,\n",
       "  Event with NDC code 00781305714 from table PRESCRIPTIONS,\n",
       "  Event with NDC code 00310013039 from table PRESCRIPTIONS]}"
      ]
     },
     "execution_count": 8,
     "metadata": {},
     "output_type": "execute_result"
    }
   ],
   "source": [
    "mimic3_ds.patients['10092'].visits['110429'].event_list_dict"
   ]
  },
  {
   "cell_type": "code",
   "execution_count": 10,
   "id": "e130efc2",
   "metadata": {},
   "outputs": [
    {
     "data": {
      "text/plain": [
       "Event with ICD9CM code 53081 from table DIAGNOSES_ICD"
      ]
     },
     "execution_count": 10,
     "metadata": {},
     "output_type": "execute_result"
    }
   ],
   "source": [
    "mimic3_ds.patients['10092'].visits['110429'].event_list_dict['DIAGNOSES_ICD'][0]"
   ]
  },
  {
   "cell_type": "code",
   "execution_count": 11,
   "id": "15502334",
   "metadata": {},
   "outputs": [
    {
     "data": {
      "text/plain": [
       "'53081'"
      ]
     },
     "execution_count": 11,
     "metadata": {},
     "output_type": "execute_result"
    }
   ],
   "source": [
    "mimic3_ds.patients['10092'].visits['110429'].event_list_dict['DIAGNOSES_ICD'][0].code"
   ]
  },
  {
   "cell_type": "code",
   "execution_count": 12,
   "id": "fd1a3ee4",
   "metadata": {},
   "outputs": [
    {
     "data": {
      "text/plain": [
       "['53081', '5715', '5185', '5180', '1623', '5672', '8748', '7812', '3229']"
      ]
     },
     "execution_count": 12,
     "metadata": {},
     "output_type": "execute_result"
    }
   ],
   "source": [
    "mimic3_ds.patients['10092'].visits['110429'].get_code_list(table=\"DIAGNOSES_ICD\")"
   ]
  },
  {
   "cell_type": "code",
   "execution_count": null,
   "id": "c9147f0f",
   "metadata": {},
   "outputs": [],
   "source": []
  },
  {
   "cell_type": "code",
   "execution_count": 8,
   "id": "b896fcd8",
   "metadata": {},
   "outputs": [
    {
     "data": {
      "text/plain": [
       "['DIAGNOSES_ICD', 'PROCEDURES_ICD', 'PRESCRIPTIONS']"
      ]
     },
     "execution_count": 8,
     "metadata": {},
     "output_type": "execute_result"
    }
   ],
   "source": [
    "mimic3_ds.tables"
   ]
  },
  {
   "cell_type": "code",
   "execution_count": 17,
   "id": "e6caeecb",
   "metadata": {},
   "outputs": [
    {
     "data": {
      "text/plain": [
       "{'visit_id': '110342',\n",
       " 'patient_id': '10009',\n",
       " 'conditions': [['5789', '2724', '45620', '78659', '45981', '81601', '5848']],\n",
       " 'procedures': [['4516']],\n",
       " 'drugs': [['00008092355',\n",
       "   '00409176230',\n",
       "   '61553008348',\n",
       "   '63323026201',\n",
       "   '00904053061',\n",
       "   '00781305714',\n",
       "   '58177020211',\n",
       "   '11523726808',\n",
       "   '00777310533']],\n",
       " 'label': 0}"
      ]
     },
     "execution_count": 17,
     "metadata": {},
     "output_type": "execute_result"
    }
   ],
   "source": [
    "mimic3_ds.samples[0]"
   ]
  },
  {
   "cell_type": "code",
   "execution_count": null,
   "id": "d0d74f0a",
   "metadata": {},
   "outputs": [],
   "source": []
  },
  {
   "cell_type": "markdown",
   "id": "aa4c16aa",
   "metadata": {},
   "source": [
    "## Define healthcare task "
   ]
  },
  {
   "cell_type": "code",
   "execution_count": 9,
   "id": "d2411b77",
   "metadata": {},
   "outputs": [
    {
     "name": "stderr",
     "output_type": "stream",
     "text": [
      "Generating samples for readmission_prediction_mimic3_fn: 100%|███████████████| 49993/49993 [00:00<00:00, 567502.25it/s]"
     ]
    },
    {
     "name": "stdout",
     "output_type": "stream",
     "text": [
      "Statistics of sample dataset:\n",
      "\t- Dataset: MIMIC3Dataset\n",
      "\t- Task: readmission_prediction_mimic3_fn\n",
      "\t- Number of samples: 2194\n",
      "\t- Number of patients: 2116\n",
      "\t- Number of visits: 2194\n",
      "\t- Number of visits per patient: 1.0369\n",
      "\t- conditions:\n",
      "\t\t- Number of conditions per sample: 10.3414\n",
      "\t\t- Number of unique conditions: 2526\n",
      "\t\t- Distribution of conditions (Top-10): [('4019', 875), ('41401', 591), ('42731', 540), ('25000', 483), ('4280', 472), ('2724', 324), ('5849', 297), ('53081', 280), ('5990', 264), ('2720', 254)]\n",
      "\t- procedures:\n",
      "\t\t- Number of procedures per sample: 4.0789\n",
      "\t\t- Number of unique procedures: 815\n",
      "\t\t- Distribution of procedures (Top-10): [('3893', 458), ('3961', 419), ('9904', 393), ('8856', 250), ('3615', 234), ('9604', 222), ('966', 213), ('8872', 208), ('9671', 181), ('3722', 177)]\n",
      "\t- drugs:\n",
      "\t\t- Number of drugs per sample: 35.5228\n",
      "\t\t- Number of unique drugs: 2424\n",
      "\t\t- Distribution of drugs (Top-10): [('00338001702', 1023), ('00008084199', 903), ('51079025520', 893), ('00338004938', 887), ('00338004904', 829), ('00338004902', 791), ('00338070341', 782), ('00338004903', 744), ('00456066270', 682), ('00641040025', 655)]\n",
      "\t- label:\n",
      "\t\t- Number of label per sample: 1.0000\n",
      "\t\t- Number of unique label: 2\n",
      "\t\t- Distribution of label (Top-10): [(0, 1922), (1, 272)]\n"
     ]
    },
    {
     "name": "stderr",
     "output_type": "stream",
     "text": [
      "\n"
     ]
    },
    {
     "data": {
      "text/plain": [
       "\"Statistics of sample dataset:\\n\\t- Dataset: MIMIC3Dataset\\n\\t- Task: readmission_prediction_mimic3_fn\\n\\t- Number of samples: 2194\\n\\t- Number of patients: 2116\\n\\t- Number of visits: 2194\\n\\t- Number of visits per patient: 1.0369\\n\\t- conditions:\\n\\t\\t- Number of conditions per sample: 10.3414\\n\\t\\t- Number of unique conditions: 2526\\n\\t\\t- Distribution of conditions (Top-10): [('4019', 875), ('41401', 591), ('42731', 540), ('25000', 483), ('4280', 472), ('2724', 324), ('5849', 297), ('53081', 280), ('5990', 264), ('2720', 254)]\\n\\t- procedures:\\n\\t\\t- Number of procedures per sample: 4.0789\\n\\t\\t- Number of unique procedures: 815\\n\\t\\t- Distribution of procedures (Top-10): [('3893', 458), ('3961', 419), ('9904', 393), ('8856', 250), ('3615', 234), ('9604', 222), ('966', 213), ('8872', 208), ('9671', 181), ('3722', 177)]\\n\\t- drugs:\\n\\t\\t- Number of drugs per sample: 35.5228\\n\\t\\t- Number of unique drugs: 2424\\n\\t\\t- Distribution of drugs (Top-10): [('00338001702', 1023), ('00008084199', 903), ('51079025520', 893), ('00338004938', 887), ('00338004904', 829), ('00338004902', 791), ('00338070341', 782), ('00338004903', 744), ('00456066270', 682), ('00641040025', 655)]\\n\\t- label:\\n\\t\\t- Number of label per sample: 1.0000\\n\\t\\t- Number of unique label: 2\\n\\t\\t- Distribution of label (Top-10): [(0, 1922), (1, 272)]\""
      ]
     },
     "execution_count": 9,
     "metadata": {},
     "output_type": "execute_result"
    }
   ],
   "source": [
    "from pyhealth.tasks import readmission_prediction_mimic3_fn\n",
    "\n",
    "mimic3_ds = mimic3_ds.set_task(task_fn=readmission_prediction_mimic3_fn)\n",
    "# stats info\n",
    "mimic3_ds.stat()"
   ]
  },
  {
   "cell_type": "code",
   "execution_count": 10,
   "id": "18d3a19f",
   "metadata": {},
   "outputs": [],
   "source": [
    "from pyhealth.datasets.splitter import split_by_patient\n",
    "from pyhealth.datasets import split_by_patient, get_dataloader\n",
    "\n",
    "# data split\n",
    "train_dataset, val_dataset, test_dataset = split_by_patient(mimic3_ds, [0.8, 0.1, 0.1])\n",
    "\n",
    "# create dataloaders (they are <torch.data.DataLoader> object)\n",
    "train_loader = get_dataloader(train_dataset, batch_size=64, shuffle=True)\n",
    "val_loader = get_dataloader(val_dataset, batch_size=64, shuffle=False)\n",
    "test_loader = get_dataloader(test_dataset, batch_size=64, shuffle=False)"
   ]
  },
  {
   "cell_type": "markdown",
   "id": "f7e2c8f7",
   "metadata": {},
   "source": [
    "## Define ML Model "
   ]
  },
  {
   "cell_type": "code",
   "execution_count": 11,
   "id": "5816b6d2",
   "metadata": {},
   "outputs": [],
   "source": [
    "from pyhealth.models import Transformer\n",
    "\n",
    "model = Transformer(\n",
    "    dataset=mimic3_ds,\n",
    "    # look up what are available for \"feature_keys\" and \"label_keys\" in dataset.samples[0]\n",
    "    feature_keys=[\"conditions\", \"procedures\"],\n",
    "    label_key=\"label\",\n",
    "    mode=\"binary\",\n",
    ")"
   ]
  },
  {
   "cell_type": "markdown",
   "id": "f3e4f313",
   "metadata": {},
   "source": [
    "## training"
   ]
  },
  {
   "cell_type": "code",
   "execution_count": 12,
   "id": "02e665b5",
   "metadata": {},
   "outputs": [
    {
     "name": "stderr",
     "output_type": "stream",
     "text": [
      "C:\\Users\\liyim\\AppData\\Local\\Programs\\Python\\Python311\\Lib\\site-packages\\pyhealth\\trainer.py:13: TqdmWarning: IProgress not found. Please update jupyter and ipywidgets. See https://ipywidgets.readthedocs.io/en/stable/user_install.html\n",
      "  from tqdm.autonotebook import trange\n",
      "Transformer(\n",
      "  (embeddings): ModuleDict(\n",
      "    (conditions): Embedding(2528, 128, padding_idx=0)\n",
      "    (procedures): Embedding(817, 128, padding_idx=0)\n",
      "  )\n",
      "  (linear_layers): ModuleDict()\n",
      "  (transformer): ModuleDict(\n",
      "    (conditions): TransformerLayer(\n",
      "      (transformer): ModuleList(\n",
      "        (0): TransformerBlock(\n",
      "          (attention): MultiHeadedAttention(\n",
      "            (linear_layers): ModuleList(\n",
      "              (0-2): 3 x Linear(in_features=128, out_features=128, bias=False)\n",
      "            )\n",
      "            (output_linear): Linear(in_features=128, out_features=128, bias=False)\n",
      "            (attention): Attention()\n",
      "            (dropout): Dropout(p=0.1, inplace=False)\n",
      "          )\n",
      "          (feed_forward): PositionwiseFeedForward(\n",
      "            (w_1): Linear(in_features=128, out_features=512, bias=True)\n",
      "            (w_2): Linear(in_features=512, out_features=128, bias=True)\n",
      "            (dropout): Dropout(p=0.5, inplace=False)\n",
      "            (activation): GELU(approximate='none')\n",
      "          )\n",
      "          (input_sublayer): SublayerConnection(\n",
      "            (norm): LayerNorm((128,), eps=1e-05, elementwise_affine=True)\n",
      "            (dropout): Dropout(p=0.5, inplace=False)\n",
      "          )\n",
      "          (output_sublayer): SublayerConnection(\n",
      "            (norm): LayerNorm((128,), eps=1e-05, elementwise_affine=True)\n",
      "            (dropout): Dropout(p=0.5, inplace=False)\n",
      "          )\n",
      "          (dropout): Dropout(p=0.5, inplace=False)\n",
      "        )\n",
      "      )\n",
      "    )\n",
      "    (procedures): TransformerLayer(\n",
      "      (transformer): ModuleList(\n",
      "        (0): TransformerBlock(\n",
      "          (attention): MultiHeadedAttention(\n",
      "            (linear_layers): ModuleList(\n",
      "              (0-2): 3 x Linear(in_features=128, out_features=128, bias=False)\n",
      "            )\n",
      "            (output_linear): Linear(in_features=128, out_features=128, bias=False)\n",
      "            (attention): Attention()\n",
      "            (dropout): Dropout(p=0.1, inplace=False)\n",
      "          )\n",
      "          (feed_forward): PositionwiseFeedForward(\n",
      "            (w_1): Linear(in_features=128, out_features=512, bias=True)\n",
      "            (w_2): Linear(in_features=512, out_features=128, bias=True)\n",
      "            (dropout): Dropout(p=0.5, inplace=False)\n",
      "            (activation): GELU(approximate='none')\n",
      "          )\n",
      "          (input_sublayer): SublayerConnection(\n",
      "            (norm): LayerNorm((128,), eps=1e-05, elementwise_affine=True)\n",
      "            (dropout): Dropout(p=0.5, inplace=False)\n",
      "          )\n",
      "          (output_sublayer): SublayerConnection(\n",
      "            (norm): LayerNorm((128,), eps=1e-05, elementwise_affine=True)\n",
      "            (dropout): Dropout(p=0.5, inplace=False)\n",
      "          )\n",
      "          (dropout): Dropout(p=0.5, inplace=False)\n",
      "        )\n",
      "      )\n",
      "    )\n",
      "  )\n",
      "  (fc): Linear(in_features=256, out_features=1, bias=True)\n",
      ")\n",
      "Metrics: None\n",
      "Device: cpu\n",
      "\n",
      "Training:\n",
      "Batch size: 64\n",
      "Optimizer: <class 'torch.optim.adam.Adam'>\n",
      "Optimizer params: {'lr': 0.001}\n",
      "Weight decay: 0.0\n",
      "Max grad norm: None\n",
      "Val dataloader: <torch.utils.data.dataloader.DataLoader object at 0x000002F6EEEDEA90>\n",
      "Monitor: pr_auc\n",
      "Monitor criterion: max\n",
      "Epochs: 3\n",
      "\n",
      "Epoch 0 / 3: 100%|█████████████████████████████████████████████████████████████████████| 28/28 [00:00<00:00, 41.44it/s]\n",
      "--- Train epoch-0, step-28 ---\n",
      "loss: 0.6935\n",
      "Evaluation: 100%|███████████████████████████████████████████████████████████████████████| 4/4 [00:00<00:00, 160.00it/s]\n",
      "--- Eval epoch-0, step-28 ---\n",
      "pr_auc: 0.0822\n",
      "roc_auc: 0.4466\n",
      "f1: 0.0000\n",
      "loss: 0.3621\n",
      "New best pr_auc score (0.0822) at epoch-0, step-28\n",
      "\n",
      "Epoch 1 / 3: 100%|█████████████████████████████████████████████████████████████████████| 28/28 [00:00<00:00, 55.59it/s]\n",
      "--- Train epoch-1, step-56 ---\n",
      "loss: 0.4760\n",
      "Evaluation: 100%|███████████████████████████████████████████████████████████████████████| 4/4 [00:00<00:00, 181.85it/s]\n",
      "--- Eval epoch-1, step-56 ---\n",
      "pr_auc: 0.0863\n",
      "roc_auc: 0.4703\n",
      "f1: 0.0000\n",
      "loss: 0.3386\n",
      "New best pr_auc score (0.0863) at epoch-1, step-56\n",
      "\n",
      "Epoch 2 / 3: 100%|█████████████████████████████████████████████████████████████████████| 28/28 [00:00<00:00, 58.78it/s]\n",
      "--- Train epoch-2, step-84 ---\n",
      "loss: 0.4215\n",
      "Evaluation: 100%|███████████████████████████████████████████████████████████████████████| 4/4 [00:00<00:00, 177.58it/s]\n",
      "--- Eval epoch-2, step-84 ---\n",
      "pr_auc: 0.0736\n",
      "roc_auc: 0.4533\n",
      "f1: 0.0000\n",
      "loss: 0.3406\n",
      "Loaded best model\n"
     ]
    }
   ],
   "source": [
    "from pyhealth.trainer import Trainer\n",
    "\n",
    "trainer = Trainer(model=model)\n",
    "trainer.train(\n",
    "    train_dataloader=train_loader,\n",
    "    val_dataloader=val_loader,\n",
    "    epochs=3,\n",
    "    monitor=\"pr_auc\",\n",
    ")"
   ]
  },
  {
   "cell_type": "markdown",
   "id": "72e1c400",
   "metadata": {},
   "source": [
    "##  Evaluation"
   ]
  },
  {
   "cell_type": "code",
   "execution_count": 13,
   "id": "96529d91",
   "metadata": {},
   "outputs": [
    {
     "name": "stderr",
     "output_type": "stream",
     "text": [
      "Evaluation: 100%|███████████████████████████████████████████████████████████████████████| 4/4 [00:00<00:00, 160.08it/s]\n"
     ]
    },
    {
     "name": "stdout",
     "output_type": "stream",
     "text": [
      "{'pr_auc': 0.12489719915468561, 'roc_auc': 0.461139896373057, 'f1': 0.0, 'loss': 0.4234482944011688}\n"
     ]
    },
    {
     "name": "stderr",
     "output_type": "stream",
     "text": [
      "Evaluation: 100%|███████████████████████████████████████████████████████████████████████| 4/4 [00:00<00:00, 137.89it/s]\n"
     ]
    },
    {
     "data": {
      "text/plain": [
       "{'pr_auc': 0.12489719915468561}"
      ]
     },
     "execution_count": 13,
     "metadata": {},
     "output_type": "execute_result"
    }
   ],
   "source": [
    "# option 1: use our built-in evaluation metric\n",
    "score = trainer.evaluate(test_loader)\n",
    "print (score)\n",
    "\n",
    "# option 2: use our pyhealth.metrics to evaluate\n",
    "from pyhealth.metrics.binary import binary_metrics_fn\n",
    "y_true, y_prob, loss = trainer.inference(test_loader)\n",
    "binary_metrics_fn(y_true, y_prob, metrics=[\"pr_auc\"])"
   ]
  },
  {
   "cell_type": "code",
   "execution_count": null,
   "id": "e6ebb1fb",
   "metadata": {},
   "outputs": [],
   "source": []
  }
 ],
 "metadata": {
  "kernelspec": {
   "display_name": "Python 3 (ipykernel)",
   "language": "python",
   "name": "python3"
  },
  "language_info": {
   "codemirror_mode": {
    "name": "ipython",
    "version": 3
   },
   "file_extension": ".py",
   "mimetype": "text/x-python",
   "name": "python",
   "nbconvert_exporter": "python",
   "pygments_lexer": "ipython3",
   "version": "3.11.1"
  }
 },
 "nbformat": 4,
 "nbformat_minor": 5
}
